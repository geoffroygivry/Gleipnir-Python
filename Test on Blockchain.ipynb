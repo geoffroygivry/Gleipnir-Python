{
 "cells": [
  {
   "cell_type": "code",
   "execution_count": 19,
   "metadata": {},
   "outputs": [],
   "source": [
    "from controller.blockchain import Blockchain\n",
    "from controller import magic_key\n",
    "import pymongo\n",
    "from pymongo import MongoClient\n",
    "from atlas.config import glpr_config as glc\n",
    "\n",
    "server = MongoClient(glc.MONGODB)\n",
    "db = server.gleipnir"
   ]
  },
  {
   "cell_type": "code",
   "execution_count": 20,
   "metadata": {},
   "outputs": [],
   "source": [
    "collextion = db.Proof_of_ownership"
   ]
  },
  {
   "cell_type": "code",
   "execution_count": 23,
   "metadata": {},
   "outputs": [
    {
     "name": "stdout",
     "output_type": "stream",
     "text": [
      "{'_id': ObjectId('5ba75dff083a440a7403a5eb'), 'index': 12, 'block_title': 'Proof_of_ownership.docx_0012', 'timestamp': '2018-09-23T09:33:51.104786', 'data': {'nonce': 'j9upxYFkjqUjLYv+Mt1Y3g==', 'header': 'UHJvb2Zfb2Zfb3duZXJzaGlwLmRvY3ggc2VudCBieSBHZW9mZnJveSBHaXZyeS4=', 'ciphertext': 'nWyLLZ2M7w==', 'tag': 'tNE1KipI+r+al5ZAVOGCRQ=='}, 'nonce': 72474, 'hash': '0000e7dc93f30ed86e4994f1477f5e93e012902c3c9821f35d6b8d504e458b78', 'previous_hash': '27f0339e663441eb40ac7c014e8f18ac812fa0cc007845b647f382ec1e09e9ef'}\n"
     ]
    }
   ],
   "source": [
    "cursor = collextion.find().sort([('_id', -1)]).limit(1)\n",
    "for n in cursor:\n",
    "    print(n)"
   ]
  },
  {
   "cell_type": "code",
   "execution_count": null,
   "metadata": {},
   "outputs": [],
   "source": []
  }
 ],
 "metadata": {
  "kernelspec": {
   "display_name": "python37",
   "language": "python",
   "name": "python37"
  },
  "language_info": {
   "codemirror_mode": {
    "name": "ipython",
    "version": 3
   },
   "file_extension": ".py",
   "mimetype": "text/x-python",
   "name": "python",
   "nbconvert_exporter": "python",
   "pygments_lexer": "ipython3",
   "version": "3.7.0"
  }
 },
 "nbformat": 4,
 "nbformat_minor": 2
}
