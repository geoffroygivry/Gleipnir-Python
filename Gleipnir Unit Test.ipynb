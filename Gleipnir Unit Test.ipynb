{
 "cells": [
  {
   "cell_type": "code",
   "execution_count": 1,
   "metadata": {},
   "outputs": [],
   "source": [
    "from controller.blockchain import Blockchain\n",
    "from controller import magic_key"
   ]
  },
  {
   "cell_type": "code",
   "execution_count": 2,
   "metadata": {},
   "outputs": [],
   "source": [
    "magic_key.generate_magic_keys(\"proof_mk.bin\", \"priv_key_proof.pem\", \"pub_key_proof.pem\")"
   ]
  },
  {
   "cell_type": "code",
   "execution_count": 3,
   "metadata": {},
   "outputs": [],
   "source": [
    "magic_key = magic_key.get_magic_key(\"proof_mk.bin\", \"priv_key_proof.pem\")"
   ]
  },
  {
   "cell_type": "code",
   "execution_count": 4,
   "metadata": {},
   "outputs": [
    {
     "name": "stdout",
     "output_type": "stream",
     "text": [
      "b'\\xc7\\x9a\\xbf{4s\\xc6)\\x0c\\x9bN\\x11\\xcfN\\xf7I'\n"
     ]
    }
   ],
   "source": [
    "print(magic_key)"
   ]
  },
  {
   "cell_type": "code",
   "execution_count": 5,
   "metadata": {},
   "outputs": [],
   "source": [
    "blockchain = Blockchain(magic_key, file_path=\"Proof_of_ownership.docx\", chunks=10)"
   ]
  },
  {
   "cell_type": "code",
   "execution_count": 6,
   "metadata": {},
   "outputs": [],
   "source": [
    "splitted_data = blockchain._chunk_data()"
   ]
  },
  {
   "cell_type": "code",
   "execution_count": 7,
   "metadata": {},
   "outputs": [],
   "source": [
    "for index, bin_data in enumerate(splitted_data):\n",
    "    data = blockchain.encrypt_block(bin_data)\n",
    "    previous_block = blockchain.get_previous_block()\n",
    "    previous_nonce = previous_block['nonce']\n",
    "    nonce, current_hash = blockchain.nonce_and_hash(previous_nonce)\n",
    "    previous_hash = blockchain.hash(previous_block)\n",
    "    block = blockchain.create_block(data, nonce, current_hash, previous_hash, title=blockchain.file)"
   ]
  },
  {
   "cell_type": "code",
   "execution_count": 8,
   "metadata": {},
   "outputs": [
    {
     "data": {
      "text/plain": [
       "True"
      ]
     },
     "execution_count": 8,
     "metadata": {},
     "output_type": "execute_result"
    }
   ],
   "source": [
    "blockchain.is_chain_valid(blockchain.chain)"
   ]
  },
  {
   "cell_type": "code",
   "execution_count": 9,
   "metadata": {},
   "outputs": [],
   "source": [
    "from pymongo import MongoClient\n",
    "from atlas.config import glpr_config as glc\n",
    "\n",
    "server = MongoClient(glc.MONGODB)\n",
    "db = server.gleipnir"
   ]
  },
  {
   "cell_type": "code",
   "execution_count": 10,
   "metadata": {},
   "outputs": [],
   "source": [
    "if blockchain.is_chain_valid(blockchain.chain):\n",
    "    db[blockchain.title].insert_many(blockchain.chain)\n"
   ]
  },
  {
   "cell_type": "code",
   "execution_count": 11,
   "metadata": {},
   "outputs": [],
   "source": [
    " collection = db[blockchain.title]"
   ]
  },
  {
   "cell_type": "code",
   "execution_count": 14,
   "metadata": {},
   "outputs": [
    {
     "name": "stdout",
     "output_type": "stream",
     "text": [
      "the file decrypted_proof_of_ownership.docx has been decrypted!\n"
     ]
    }
   ],
   "source": [
    "blockchain.convert_blocks_to_file(collection, file_name=\"decrypted_proof_of_ownership.docx\")"
   ]
  },
  {
   "cell_type": "code",
   "execution_count": 16,
   "metadata": {},
   "outputs": [
    {
     "data": {
      "text/plain": [
       "'Proof_of_ownership'"
      ]
     },
     "execution_count": 16,
     "metadata": {},
     "output_type": "execute_result"
    }
   ],
   "source": [
    "blockchain.title"
   ]
  }
 ],
 "metadata": {
  "kernelspec": {
   "display_name": "python37",
   "language": "python",
   "name": "python37"
  },
  "language_info": {
   "codemirror_mode": {
    "name": "ipython",
    "version": 3
   },
   "file_extension": ".py",
   "mimetype": "text/x-python",
   "name": "python",
   "nbconvert_exporter": "python",
   "pygments_lexer": "ipython3",
   "version": "3.7.0"
  }
 },
 "nbformat": 4,
 "nbformat_minor": 2
}
