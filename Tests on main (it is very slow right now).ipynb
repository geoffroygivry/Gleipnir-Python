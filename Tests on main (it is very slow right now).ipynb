{
 "cells": [
  {
   "cell_type": "code",
   "execution_count": 1,
   "metadata": {},
   "outputs": [
    {
     "data": {
      "text/plain": [
       "<module 'main' from 'c:\\\\GDrive\\\\01_DEV\\\\00_WORKSPACE\\\\GLEIPNIR\\\\Python\\\\gleipnir\\\\main.py'>"
      ]
     },
     "execution_count": 1,
     "metadata": {},
     "output_type": "execute_result"
    }
   ],
   "source": [
    "import main\n",
    "from importlib import reload\n",
    "reload(main)"
   ]
  },
  {
   "cell_type": "code",
   "execution_count": 2,
   "metadata": {
    "scrolled": false
   },
   "outputs": [
    {
     "name": "stdout",
     "output_type": "stream",
     "text": [
      "Incorrect decryption MAC check failed\n",
      "Incorrect decryption MAC check failed\n",
      "Incorrect decryption MAC check failed\n",
      "Incorrect decryption MAC check failed\n",
      "Incorrect decryption MAC check failed\n",
      "Incorrect decryption MAC check failed\n",
      "Incorrect decryption MAC check failed\n",
      "Incorrect decryption MAC check failed\n",
      "Incorrect decryption MAC check failed\n",
      "Incorrect decryption MAC check failed\n",
      "Incorrect decryption MAC check failed\n",
      "Incorrect decryption MAC check failed\n",
      "Incorrect decryption MAC check failed\n",
      "Incorrect decryption MAC check failed\n",
      "Incorrect decryption MAC check failed\n",
      "Incorrect decryption MAC check failed\n",
      "Incorrect decryption MAC check failed\n",
      "Incorrect decryption MAC check failed\n",
      "Incorrect decryption MAC check failed\n",
      "Incorrect decryption MAC check failed\n",
      "Incorrect decryption MAC check failed\n",
      "Incorrect decryption MAC check failed\n",
      "Incorrect decryption MAC check failed\n",
      "Incorrect decryption MAC check failed\n",
      "Incorrect decryption MAC check failed\n",
      "Incorrect decryption MAC check failed\n",
      "Incorrect decryption MAC check failed\n",
      "Incorrect decryption MAC check failed\n",
      "Incorrect decryption MAC check failed\n",
      "Incorrect decryption MAC check failed\n",
      "Incorrect decryption MAC check failed\n",
      "Incorrect decryption MAC check failed\n",
      "Incorrect decryption MAC check failed\n",
      "Incorrect decryption MAC check failed\n",
      "Incorrect decryption MAC check failed\n",
      "Incorrect decryption MAC check failed\n",
      "Incorrect decryption MAC check failed\n",
      "Incorrect decryption MAC check failed\n",
      "Incorrect decryption MAC check failed\n",
      "Incorrect decryption MAC check failed\n",
      "Incorrect decryption MAC check failed\n",
      "Incorrect decryption MAC check failed\n",
      "Incorrect decryption MAC check failed\n",
      "Incorrect decryption MAC check failed\n",
      "Incorrect decryption MAC check failed\n",
      "Incorrect decryption MAC check failed\n",
      "Incorrect decryption MAC check failed\n",
      "Incorrect decryption MAC check failed\n",
      "Incorrect decryption MAC check failed\n",
      "Incorrect decryption MAC check failed\n",
      "Incorrect decryption MAC check failed\n",
      "Incorrect decryption MAC check failed\n",
      "Incorrect decryption MAC check failed\n",
      "Incorrect decryption MAC check failed\n",
      "Incorrect decryption MAC check failed\n",
      "Incorrect decryption MAC check failed\n",
      "Incorrect decryption MAC check failed\n",
      "Incorrect decryption MAC check failed\n",
      "Incorrect decryption MAC check failed\n",
      "Incorrect decryption MAC check failed\n",
      "Incorrect decryption MAC check failed\n",
      "Incorrect decryption MAC check failed\n",
      "Incorrect decryption MAC check failed\n",
      "Incorrect decryption MAC check failed\n",
      "Incorrect decryption MAC check failed\n",
      "Incorrect decryption MAC check failed\n",
      "Incorrect decryption MAC check failed\n",
      "Incorrect decryption MAC check failed\n",
      "Incorrect decryption MAC check failed\n",
      "Incorrect decryption MAC check failed\n",
      "Incorrect decryption MAC check failed\n",
      "Incorrect decryption MAC check failed\n",
      "Incorrect decryption MAC check failed\n",
      "Incorrect decryption MAC check failed\n",
      "Incorrect decryption MAC check failed\n",
      "Incorrect decryption MAC check failed\n",
      "Incorrect decryption MAC check failed\n",
      "Incorrect decryption MAC check failed\n",
      "Incorrect decryption MAC check failed\n",
      "Incorrect decryption MAC check failed\n",
      "Incorrect decryption MAC check failed\n",
      "Incorrect decryption MAC check failed\n",
      "the file encrypted_requirements.txt has been decrypted!\n"
     ]
    }
   ],
   "source": [
    "main.run(\"requirements.txt\", file_out=\"encrypted_requirements.txt\", chunks=5)"
   ]
  },
  {
   "cell_type": "code",
   "execution_count": null,
   "metadata": {},
   "outputs": [],
   "source": [
    "import cProfile\n",
    "from controller.blockchain import Blockchain\n",
    "from controller import magic_key\n",
    "from pymongo import MongoClient\n",
    "from atlas.config import glpr_config as glc\n",
    "\n",
    "server = MongoClient(glc.MONGODB)\n",
    "db = server.gleipnir"
   ]
  },
  {
   "cell_type": "code",
   "execution_count": null,
   "metadata": {},
   "outputs": [],
   "source": [
    "file_in = \"Proof_of_ownership.docx\"\n",
    "file_out = \"Proof_decrypted_v03.docx\"\n",
    "\n",
    "\n",
    "magic_key.generate_magic_keys(\"proof_mk.bin\", \"priv_key_proof.pem\",\n",
    "                              \"pub_key_proof.pem\")\n",
    "\n",
    "special_magic_key = magic_key.get_magic_key(\"proof_mk.bin\",\n",
    "                                            \"priv_key_proof.pem\")\n",
    "\n",
    "blockchain = Blockchain(special_magic_key, db,\n",
    "                        file_path=file_in, chunks=40)\n",
    "splitted_data = blockchain._chunk_data()\n",
    "blockchain.set_db(db)"
   ]
  },
  {
   "cell_type": "code",
   "execution_count": null,
   "metadata": {},
   "outputs": [],
   "source": [
    "for bin_data in splitted_data:\n",
    "    data = blockchain.encrypt_block(bin_data)\n",
    "    previous_block = blockchain.get_previous_block()\n",
    "    previous_txid = previous_block['transaction_id']\n",
    "    new_block = blockchain.create_block(data, previous_txid, title=blockchain.file)\n",
    "    print(new_block['transaction_id'])\n",
    "    if blockchain.check_prev_block_hash(new_block, previous_block):\n",
    "        db.BCMain.insert_one(new_block)\n",
    "    else:\n",
    "        print(\"the blockchain is not valid!\")\n",
    "\n",
    "# collection = db.BCMain\n",
    "# blockchain.convert_blocks_to_file(collection, file_name=file_out)\n"
   ]
  },
  {
   "cell_type": "code",
   "execution_count": null,
   "metadata": {},
   "outputs": [],
   "source": []
  }
 ],
 "metadata": {
  "kernelspec": {
   "display_name": "python37",
   "language": "python",
   "name": "python37"
  },
  "language_info": {
   "codemirror_mode": {
    "name": "ipython",
    "version": 3
   },
   "file_extension": ".py",
   "mimetype": "text/x-python",
   "name": "python",
   "nbconvert_exporter": "python",
   "pygments_lexer": "ipython3",
   "version": "3.7.0"
  }
 },
 "nbformat": 4,
 "nbformat_minor": 2
}
