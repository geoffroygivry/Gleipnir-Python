{
 "cells": [
  {
   "cell_type": "code",
   "execution_count": 1,
   "metadata": {},
   "outputs": [
    {
     "data": {
      "text/plain": [
       "<module 'main' from '/home/cabox/workspace/gleipnir/main.py'>"
      ]
     },
     "execution_count": 1,
     "metadata": {},
     "output_type": "execute_result"
    }
   ],
   "source": [
    "import main\n",
    "from importlib import reload\n",
    "reload(main)"
   ]
  },
  {
   "cell_type": "code",
   "execution_count": 2,
   "metadata": {
    "scrolled": true
   },
   "outputs": [
    {
     "name": "stdout",
     "output_type": "stream",
     "text": [
      "the file Proof_decrypted_v02 has been decrypted!\n"
     ]
    }
   ],
   "source": [
    "main.run(\"Proof_of_ownership.docx\", file_out=\"Proof_decrypted_v02\")"
   ]
  },
  {
   "cell_type": "code",
   "execution_count": 1,
   "metadata": {},
   "outputs": [],
   "source": [
    "import hashlib\n",
    "from pprint import pprint\n",
    "import json"
   ]
  },
  {
   "cell_type": "code",
   "execution_count": 3,
   "metadata": {},
   "outputs": [
    {
     "name": "stdout",
     "output_type": "stream",
     "text": [
      "{\"input\": {\"block_title\": \"Gleipnir Genesis Block\", \"data\": \"You only live once, but if you do it right, once is enough.\", \"index\": 0, \"nonce\": 2125, \"previous_txid\": \"56d00c460c0286c4b8d4907ce95d1a680ad3c9598f1722c0b658dcc044ece29e\", \"timestamp\": \"2018-09-28T09:07:59.605537\"}, \"metadata\": [\"copyright by ggivry\"], \"transaction_id\": \"00004a21cef87a3a8c9bc0b91247b45de0742143b24e9c835db39e149da360da\"}\n"
     ]
    }
   ],
   "source": [
    "def format_dict_to_block(block):\n",
    "    return json.dumps(block, sort_keys=True)\n",
    "\n",
    "block =  {\"input\":{\n",
    "                \"index\": 0,\n",
    "                \"timestamp\": \"2018-09-28T09:07:59.605537\",\n",
    "                \"previous_txid\": \"56d00c460c0286c4b8d4907ce95d1a680ad3c9598f1722c0b658dcc044ece29e\",\n",
    "                \"block_title\": \"Gleipnir Genesis Block\",\n",
    "                \"data\": \"You only live once, but if you do it right, once is enough.\"\n",
    "                    },\n",
    "          \"metadata\": [\"copyright by ggivry\"]\n",
    "}\n",
    "nonce = 1\n",
    "check_nonce = False\n",
    "while check_nonce is False:\n",
    "    block['input']['nonce'] = nonce\n",
    "    block_hash = hashlib.sha256(str(format_dict_to_block(block)).encode()).hexdigest()\n",
    "    if block_hash[:4] == '0000':\n",
    "        block[\"transaction_id\"] = block_hash\n",
    "        check_nonce = True\n",
    "    else:\n",
    "        nonce += 1\n",
    "\n",
    "print(json.dumps(block, sort_keys=True))"
   ]
  },
  {
   "cell_type": "code",
   "execution_count": 4,
   "metadata": {},
   "outputs": [
    {
     "name": "stdout",
     "output_type": "stream",
     "text": [
      "{\"input\": {\"block_title\": \"block 02\", \"data\": \"You only live once. Fart a lot.\", \"index\": 2, \"nonce\": 99367, \"previous_txid\": \"0000491783fcdba67613ad44e85244e43b8ace9fa54a915ea5d049a86614ef85\", \"timestamp\": \"2018-09-28T09:07:59.605537\"}, \"metadata\": [\"copyright by ggivry\"], \"transaction_id\": \"0000b52818220cb6d71e817c291f833cb0041fc1a6250044c50d5e26566d2743\"}\n"
     ]
    }
   ],
   "source": [
    "block =  {\"input\":{\n",
    "                \"index\": 2,\n",
    "                \"timestamp\": \"2018-09-28T09:07:59.605537\",\n",
    "                \"previous_txid\": \"0000491783fcdba67613ad44e85244e43b8ace9fa54a915ea5d049a86614ef85\",\n",
    "                \"block_title\": \"block 02\",\n",
    "                \"data\": \"You only live once. Fart a lot.\"\n",
    "                    },\n",
    "          \"metadata\": [\"copyright by ggivry\"]\n",
    "}\n",
    "nonce = 1\n",
    "check_nonce = False\n",
    "while check_nonce is False:\n",
    "    block['input']['nonce'] = nonce\n",
    "    block_hash = hashlib.sha256(str(format_dict_to_block(block)).encode()).hexdigest()\n",
    "    if block_hash[:4] == '0000':\n",
    "        block[\"transaction_id\"] = block_hash\n",
    "        check_nonce = True\n",
    "    else:\n",
    "        nonce += 1\n",
    "\n",
    "print(json.dumps(block, sort_keys=True))"
   ]
  },
  {
   "cell_type": "code",
   "execution_count": 4,
   "metadata": {},
   "outputs": [
    {
     "data": {
      "text/plain": [
       "True"
      ]
     },
     "execution_count": 4,
     "metadata": {},
     "output_type": "execute_result"
    }
   ],
   "source": [
    "comp_block = {'input': block['input'], \"metadata\": block['metadata']}\n",
    "hashlib.sha256(str(comp_block).encode()).hexdigest() == block['transaction_id']"
   ]
  },
  {
   "cell_type": "code",
   "execution_count": 16,
   "metadata": {},
   "outputs": [],
   "source": [
    "from controller.blockchain import Blockchain\n",
    "from controller import magic_key\n",
    "from pymongo import MongoClient\n",
    "from atlas.config import glpr_config as glc\n",
    "import pymongo\n",
    "\n",
    "server = MongoClient(glc.MONGODB)\n",
    "db = server.gleipnir"
   ]
  },
  {
   "cell_type": "code",
   "execution_count": 19,
   "metadata": {},
   "outputs": [
    {
     "data": {
      "text/plain": [
       "{'_id': ObjectId('5bae2c2afb6fc01d131c268d'),\n",
       " 'input': {'block_title': 'Gleipnir Genesis Block',\n",
       "  'data': 'You only live once, but if you do it right, once is enough.',\n",
       "  'index': 1,\n",
       "  'nonce': 37083,\n",
       "  'previous_txid': '56d00c460c0286c4b8d4907ce95d1a680ad3c9598f1722c0b658dcc044ece29e',\n",
       "  'timestamp': '2018-09-28T09:07:59.605537'},\n",
       " 'metadata': ['copyright by ggivry'],\n",
       " 'transaction_id': '0000491783fcdba67613ad44e85244e43b8ace9fa54a915ea5d049a86614ef85'}"
      ]
     },
     "execution_count": 19,
     "metadata": {},
     "output_type": "execute_result"
    }
   ],
   "source": [
    "fufu = [x for x in db.BCMain.find().sort('_id',pymongo.DESCENDING).limit(1)][0]\n",
    "fufu"
   ]
  },
  {
   "cell_type": "code",
   "execution_count": 21,
   "metadata": {},
   "outputs": [
    {
     "name": "stdout",
     "output_type": "stream",
     "text": [
      "True\n",
      "{'input': {'block_title': 'Gleipnir Genesis Block',\n",
      "           'data': 'You only live once, but if you do it right, once is '\n",
      "                   'enough.',\n",
      "           'index': 1,\n",
      "           'nonce': 37083,\n",
      "           'previous_txid': '56d00c460c0286c4b8d4907ce95d1a680ad3c9598f1722c0b658dcc044ece29e',\n",
      "           'timestamp': '2018-09-28T09:07:59.605537'},\n",
      " 'metadata': ['copyright by ggivry']}\n",
      "0000491783fcdba67613ad44e85244e43b8ace9fa54a915ea5d049a86614ef85\n",
      "0000491783fcdba67613ad44e85244e43b8ace9fa54a915ea5d049a86614ef85\n"
     ]
    }
   ],
   "source": [
    "comp_block = {'input': fufu['input'], \"metadata\": fufu['metadata']}\n",
    "check = hashlib.sha256(str(format_dict_to_block(comp_block)).encode()).hexdigest() == block['input']['previous_txid']\n",
    "print(check)\n",
    "pprint(comp_block)\n",
    "print(hashlib.sha256(str(format_dict_to_block(comp_block)).encode()).hexdigest())\n",
    "print(block['input']['previous_txid'])"
   ]
  }
 ],
 "metadata": {
  "kernelspec": {
   "display_name": "Python 3",
   "language": "python",
   "name": "python3"
  },
  "language_info": {
   "codemirror_mode": {
    "name": "ipython",
    "version": 3
   },
   "file_extension": ".py",
   "mimetype": "text/x-python",
   "name": "python",
   "nbconvert_exporter": "python",
   "pygments_lexer": "ipython3",
   "version": "3.6.4"
  }
 },
 "nbformat": 4,
 "nbformat_minor": 2
}
