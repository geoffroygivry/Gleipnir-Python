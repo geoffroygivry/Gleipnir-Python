{
 "cells": [
  {
   "cell_type": "code",
   "execution_count": 1,
   "metadata": {},
   "outputs": [],
   "source": [
    "import os\n",
    "with open('/Users/geoff/Downloads/TEST_ENCRYPT.png', 'rb') as img:\n",
    "    img_bin = img.read()"
   ]
  },
  {
   "cell_type": "code",
   "execution_count": 2,
   "metadata": {},
   "outputs": [],
   "source": [
    "num_img = len(img_bin)"
   ]
  },
  {
   "cell_type": "code",
   "execution_count": 3,
   "metadata": {
    "scrolled": true
   },
   "outputs": [
    {
     "name": "stdout",
     "output_type": "stream",
     "text": [
      "[11, 31081, 341891]\n"
     ]
    }
   ],
   "source": [
    "incrementor = 2\n",
    "check = False\n",
    "presets = []\n",
    "\n",
    "while incrementor < num_img + 1:\n",
    "    if num_img % incrementor != 0:\n",
    "        incrementor += 1\n",
    "    else:\n",
    "        presets.append(incrementor)\n",
    "        incrementor += 1\n",
    "print(presets)"
   ]
  },
  {
   "cell_type": "code",
   "execution_count": 4,
   "metadata": {},
   "outputs": [
    {
     "data": {
      "text/plain": [
       "31081"
      ]
     },
     "execution_count": 4,
     "metadata": {},
     "output_type": "execute_result"
    }
   ],
   "source": [
    "num_img//11"
   ]
  },
  {
   "cell_type": "code",
   "execution_count": 5,
   "metadata": {},
   "outputs": [
    {
     "name": "stdout",
     "output_type": "stream",
     "text": [
      "12\n"
     ]
    },
    {
     "data": {
      "text/plain": [
       "b'IHDR\\x00\\x00\\x02\\x08\\x00\\x00\\x01\\xa0\\x08\\x06\\x00\\x00\\x00\\xcf[\\x9f}\\x00\\x00\\x00\\x19tEXtSoftware\\x00Adobe'"
      ]
     },
     "execution_count": 5,
     "metadata": {},
     "output_type": "execute_result"
    }
   ],
   "source": [
    "split_img = img_bin.split(maxsplit=11)\n",
    "print(len(split_img))\n",
    "split_img[3]"
   ]
  },
  {
   "cell_type": "markdown",
   "metadata": {},
   "source": [
    "### Private Key Generation, Saving key and loading key ###"
   ]
  },
  {
   "cell_type": "code",
   "execution_count": 6,
   "metadata": {},
   "outputs": [],
   "source": [
    "from cryptography.hazmat.backends import default_backend\n",
    "from cryptography.hazmat.primitives.asymmetric import rsa\n",
    "from cryptography.hazmat.primitives import serialization\n",
    "from cryptography.hazmat.primitives.serialization import load_pem_private_key\n",
    "\n",
    "\n",
    "def gen_key():\n",
    "    private_key = rsa.generate_private_key(\n",
    "        public_exponent=65537, key_size=2048, backend=default_backend()\n",
    "    )\n",
    "    return private_key\n",
    "\n",
    "\n",
    "def save_key(pk, filename):\n",
    "    pem = pk.private_bytes(\n",
    "        encoding=serialization.Encoding.PEM,\n",
    "        format=serialization.PrivateFormat.TraditionalOpenSSL,\n",
    "        encryption_algorithm=serialization.NoEncryption()\n",
    "    )\n",
    "    with open(filename, 'wb') as pem_out:\n",
    "        pem_out.write(pem)\n",
    "\n",
    "\n",
    "def load_key(filename):\n",
    "    with open(filename, 'rb') as pem_in:\n",
    "        pemlines = pem_in.read()\n",
    "    private_key = load_pem_private_key(pemlines, None, default_backend())\n",
    "    return private_key\n",
    "\n",
    "\n",
    "if __name__ == '__main__':\n",
    "    pk = gen_key()\n",
    "    filename = 'privkey.pem'\n",
    "    save_key(pk, filename)\n",
    "    pk2 = load_key(filename)\n",
    "    pk3 = load_key(filename)"
   ]
  },
  {
   "cell_type": "markdown",
   "metadata": {},
   "source": [
    "### Signing a private message"
   ]
  },
  {
   "cell_type": "code",
   "execution_count": 7,
   "metadata": {},
   "outputs": [],
   "source": [
    "from cryptography.hazmat.primitives import hashes\n",
    "from cryptography.hazmat.primitives.asymmetric import padding\n",
    "filename = 'privkey.pem'\n",
    "private_key = load_key(filename)\n",
    "message = b\"A message I want to sign\"\n",
    "signature = private_key.sign(\n",
    "     message,\n",
    "     padding.PSS(\n",
    "         mgf=padding.MGF1(hashes.SHA256()),\n",
    "         salt_length=padding.PSS.MAX_LENGTH\n",
    "     ),\n",
    "     hashes.SHA256()\n",
    " )\n"
   ]
  },
  {
   "cell_type": "code",
   "execution_count": 8,
   "metadata": {
    "scrolled": true
   },
   "outputs": [
    {
     "data": {
      "text/plain": [
       "b'\\x82\\t\\x98,\\x13(\\xdc\\x00m\\xf9\\xb5\\xaa\\x9b\\xfe\\xe4~\\xf7\\x82\\xac\\x12\\xd3\\x95\\xfeG\\x1b\\x18\\xa8B\\xccq\\x1d\\xf0\\xf73\\xd0\\x1f\\xdc\\xde|\\x8f\\xc2\\xb2\\xcb\\xb1-\\xaa>d\\x9aYI>jt\\xbf\\xe3\\xa6\\x1f\\x14\\xb5R\\xb9(\\x88\\x05D\\xfc@.XQ_,\\x86\\xc7\\xe9\\x1b\\x8cHY\\xf6y\\xa7\\x82\\xe4\\xfe\\xaf\\x8a=\\xd1O\\xc2\\xa2\\x1c\\xe8\\x11.\\xb4\\x03\\xa6\\xe0\\xf4Kt\\xaflI\\xfe\\x91\\xe7\\x13\\x9d\\xd7\\x1d\\x1d2Z~&\\x05g\\xf2\\x13>;\\xf7\\xe1p]\\x8e\\x0e\\xf6\\x0co\\xcfav_&\\xe8\\x82\\x11S\\x15\\x1d5\\x17\\xe5\\x8fD\\x15\\x1e\\x99\\xd2^u\\xda`\\xc5\\xb6S\\xfb*\\xf9-\\xbf|^N\\xf6lt\\xe1\\x8f\\xbb3n\\xfe\\r`\\xe0 >\\x10h\\x1c\\xd9\\\\L*\\x8b\\xf6\\x8dI\\xa3\\xb2z\\xab\\xa3\\xa1\\x98\\x0e\\xcex\\x17]!?\\x1c\\xf2-\\xc9JS\\xe41\\x14\\xf6u\\x95a\\x85\\xa06\\x05\\xec\\xb9\\xf1\\x99\\xc9\\xb3\\xf8\\xe7\\xa1\\x1b(O,\\x8021\\x06B\\x906}\\xfb\\xe6A\\tj\\x9b\\xb9\\x9d\\xd3\\x1f'"
      ]
     },
     "execution_count": 8,
     "metadata": {},
     "output_type": "execute_result"
    }
   ],
   "source": [
    "signature"
   ]
  },
  {
   "cell_type": "markdown",
   "metadata": {},
   "source": [
    "### Verifying The signature ###"
   ]
  },
  {
   "cell_type": "code",
   "execution_count": 9,
   "metadata": {},
   "outputs": [
    {
     "name": "stdout",
     "output_type": "stream",
     "text": [
      "None\n"
     ]
    }
   ],
   "source": [
    "public_key = private_key.public_key()\n",
    "print(public_key.verify(\n",
    "     signature,\n",
    "     message,\n",
    "     padding.PSS(\n",
    "         mgf=padding.MGF1(hashes.SHA256()),\n",
    "         salt_length=padding.PSS.MAX_LENGTH\n",
    "     ),\n",
    "     hashes.SHA256()\n",
    " ))"
   ]
  },
  {
   "cell_type": "markdown",
   "metadata": {},
   "source": [
    "### Encryption ###"
   ]
  },
  {
   "cell_type": "code",
   "execution_count": 10,
   "metadata": {},
   "outputs": [
    {
     "name": "stdout",
     "output_type": "stream",
     "text": [
      "b'\\x06]\\xec\\xac\\x06sP{e`\\xb9&OS\\xf2!\\x01\\xb2x\\x01d3\\n\\xdfL\\x8f3\\xb2\\nP\\x85\\xa94\\xdb\\x88\\x18c\\xc0\\x95\\x06/\\x0e\\xf1\\x9cu\\xd9p>/\\x88G<\\x8f\\x80\\x15\\xc3\\\\\\xb3\\x91\\xd8\\x03\\x97\\x91\\x8box\\xd8m\\xba\\xfa\\x18\\xa9\\x18\\xb0~\\xadA:\\xe3\\'\\xf5i\\xc9\\xfa\\x17\\x8a\\x7fZ>mkX\\x0e\\x8aCw\\x15\\xf0\\xab\\xab\\xc0\\xb9fq\\x1as0C\\xfa\\xc9\\xfd\\xe2\\xd98\\xcafS\\xdb\\x13M#\\xf6\\x0e\\xf7q\\x94\\xf8Vu\\xf0\\xd3\\xefD\\x04W\\xffl\\xf4\\xfc\\x99\\x9fWy\\xb1\\n\\xeb\\xfb@C~\\xd3{\\x9d7~\\xadZ)\\xd7vd!\\xda4%\\x02\\xf6@\\t+i\\xb7\\x14\\xa4\\xd5\\xc9HyH7v\\x93*\\x07\\xa8h\\xcd\\xe8#\\x80\\r\\x10\\xc9\\xbd\\xb5\\x92%\\x906\\x8e\\xd3\\x1b\\xff\\xc9V\\x90\\xf7uZ\\x04\\xca\\x14\\x0cq\\x19F\\x17\\x0f~\\xaf\\xc3\\xb5;\\xfcz\\xc7\\xcam\\xe1c\"\\xb0\\x02\\xae\\\\\\x19\\xc1I\\x91\\xd6\\xd4!\\x9bQ\\xbc\\x18I\\x93\\\\y\\'\\x96\\xd4\\xf0\\x96F'\n",
      "==========================================================\n",
      "b'v/\\xe9\\x99\\xe9EN\\xdc\\xc4\\xa5\\x80\\x1db\\x07[\\xa3\\x89\\x9c\\xe5\\xf7[\\x81\\xa6\\xc5O\\x99!\\x00\\xc6y\\xa5\\x10.d\\x1b\\x88\\xe1\\xaam\\xf4R\\xf6\\xf4\\xff\\xf6dQ\\xae\\'\\x81<\\x06\\xbd\\x83\\xd6\\xd8\\x14\\x80\\x8b\\xa54\\xdf\\x8c|\\xc5d8\\xc4\\x81\\xdf2\\x16CC\\xd1R!\\x96\\xd9\\xd6^\\xd6\\x9c_\\xc6\\x1d\\xb1\\xed\\n\\xe8%7\\x10!\\xd9\\x9fZD\\xf4\\xa0\\x08\\xfeA\\x01\\xf7\\x8b\\x04\\xb9\\xdb)\\xc6\\xb7\\xf8\\x16<\\x89S\\xf1O{>f3;\\x8b\\x96\\xeb\\xef\\xe5c\\x1f\\x84\\xb2\\xce%\\xf4\\x16@\\xc3\\xcd\\x9d\\xf8\\x15b\\xdb\\xd1\\xf2\\xa9\\x19n~\\x1d\\x89\\xf3,}<\\xa9%\\x18\\xf4\\x0e\\xe9\\x90eQ\\xc1\\xe7==\\x13\\x9c?^\\x171\"^\\xac\\xda0&\\xe9\\xf5&\\x07\\xaa~\\xdb\\xb0\\xe3\\x7f\\xcbR\\nh\\x13$\\xdd\\xc2\\xf6\\xb0\\xd2p\\x1a\\xb84\\xa3\\x14\\xe1\\x1bP\\xd9\\xd0\\xf3\\xae\\xc9\\xecs\\x8a\\xd1\\xc5\\x87k2/\\xe2\\xe1\\xe77\\x8f\\xde\\xdc`\\x08\\x00\\xa7J#\\x10tZ\"\\xa0\\x82\\xcbv\\xae\\xdd\\xack\\xb8w8\\xb5\\xd6'\n",
      "==========================================================\n",
      "b\";P\\x1a\\xe6\\xace\\x1f\\xa3\\xa6\\xa1^GH\\xe9.\\xf4.\\xc6\\x9b\\x9dF\\xba\\xb3\\x1e\\xc5\\x83\\x94mx;\\xf8\\xf2\\x15\\x15L\\xc2\\xce$\\xac\\xfa\\x1c\\xe6c\\x82B\\xc6\\x02\\x96O7\\xcc5I#\\x8a\\xa2:\\xd7\\x16dT\\xc7?\\xd8\\x91\\xe2\\x92\\x90\\x02\\x0e\\xa5+l7y@\\x885\\xfd0:\\x07wa\\x93)cK\\x8f\\xe8V\\xa0E\\x19\\x1e\\x88\\x04\\r\\xa3V)\\xbfC\\x06M\\x0fcc\\xe4>a\\xd2\\x0c\\r\\xc1\\xb7\\xcfF\\x02kET5\\n\\xf1\\xe1z/ \\x8d\\x98\\x7fE+=\\xbf\\x1c\\x99\\xc9\\x98'\\xb6z;\\xfb\\xe3;\\x0f?\\x93J$\\xf5\\x10\\xb7\\x064\\xfe\\x15\\xb6\\xd0.]\\x1cq0\\xb8\\x7f\\x9e\\x96\\xa2F\\r\\x7f\\xd4~\\x08\\x8f0\\xc80o\\xaaX_P\\x8e\\xaa\\x9d|\\xa6\\xd5.h\\xb8\\xfa\\xa7~ \\x82\\x16+t,\\x8b\\xbc\\xdc\\xf1q\\xf5\\xe1\\xf9>:y[e\\xba&\\xd6\\xd6k\\x84\\x04s\\xba\\x90\\tz\\xdcd\\xffJ&\\xad\\xf4s\\x91\\x16\\xec\\x9f\\xc6nC\\xe9om\\xdd\\xbd\\x0cMM\\xddM>\\xb4\"\n",
      "==========================================================\n",
      "b'W]\\xde\\xd41VTC#]T\\x8ey\\x07u$\\xbb\\xe5x\\xac\\xd8/\\xd3a\\xd5agf\\x15\\xc2sD<\\xf9O\\x92Mx=\\x06\\x91\\xf8w\\x00\\xd9\\xcf\\x00\\xc46\\xa3\\x1b\\xb8\\x07}+\\x19\\xf6\\x98\\x1e\\x03\\x02v\\xf0\\xfbt\\xa0\\xb1\\xbb\\xfddy2\\x9d\\xf2\\x8et\\x1dK\\x03\\x07\\xfd\\xe2\\x07\\x92\\x80\\xbb\\xee\\x10\\xb1^\\xfd8\\xb1Z\\xf7\\xbc\\xb8\\xa2\\x92\\x96\\x06\\xc1\\x13\\x98\\x1e\\xe6\\xdb\\xf3j\\xb1K\\xac\\xb1\\xc1\\xc9\\xe2\\xcf\\xdcX\\x01\\xba\\xe1\\xdaB\\xc31;\\x1d\"\\xa5k22\\xcaAk\\xd3\\x94\\n\\x8csc+\\xdf\\xcdb^\\x04E\\xf1\\xd0\\x18\\x12\\xee\\xdc\\x88\\n\\xdb\\x9b\\x9b\\xfd\\xa56;\\x12\\xb8\\xcb\\xcaNH\\xed\\x9c\\x9f\\x13XP\\xa3\\xc2\\xbc\\xcd\\xb3\\x91\\xb7QN\\xe5\\x1dF,\\xe6}j=R\\x0bN\\x9b\\xf2]6{\\xb5\\xb8\\xecu\\x9b\\x92\\xd3_\\xa83\\xf3\\xc9\\x9e\\xb1\\xe7\\xaf\\x96\\xc4a\\xfe\\xe7x\\x06.\\xd3\\x9dk\\xc4o\\x00\\xb2\\xda\\x82\\xd8\\x1e\\x0fb\\x07Z/P\\x82Qt>\\xa6\\xe6\\xb1F\\x174\\x85L\\x90\\x02'\n",
      "==========================================================\n",
      "b'\\x8a\\xce\\x04z\\x93\\x13n\\x00\\xc8\\xa3\\xbf\\x1cY\\xcd\\xdbj\\xbe\\xc2n\\x81w\\x86\\xef.\\xc8\\xbf\\x92\\xf5Z\\xba\\xd4y96\\x16`Y\\xba^Js\\x17\\rp\\xfe\\xcc\\x8c\\xcb\\xf1\\x00Yv\\xd9\\x85\\x85\\x0f\\xae\\t\\x06d\\xb2>\\xaa\\xdc\\xf88x\\xe4\\x17\\xed3(\\xdaF\\xee\\x80\\xe2\\x99\\xb3\\x88\\xe9~\\xacl\\x1f%\\x05-P\\xed _ZI\\xa1Wk5\\x97\\xb6\\xb2\\xed\\x10\\xc7\\x10&]\\xb4\\xd4\\x03\\xbb\\xc7N\\xd2\\xccw\\x95\\x8a\\x10cn\\x1c\\x98\\x16Z\\xde\\xb8:\\xb8NG\\x97\\xb7kn\\x8a\\x98\\xd7\\x93yJ\\x13H%4\\xae\\xd2v\\xde\\x8e\\xa0\\x19W\\x1f\\x9e\\xff+\\xc4\\x9dXQ.X\\x04:\\xa1\\x9b\\x9dG,\\x8az\\xf2\\x02\\x94D\\x90\\xacP\\x9ewx\\x15$\\xa9\\xb1\\xd6|\\xcbG|\\xe6\\xc4\\xb2\\x1aj\\xd6\\xd4g\\xcbX\\n\\xcb\\x12\\xcf\\x0e\\xcc\\xe5\\xf3D\\x1aN\\x1d\\xd7\\x99]\\x83d\\x8a[6\\x8d\\x0c\\t\\x9d\\xf2\\x90\\x87[k\\x88w\\xb6\\x94\\xf6_^\\xf7N\\x0f-\\x8a\\x18L\\x1d\\xbd\\xdb{m\\xc7\\xa7G\\xb2P\\xbd\\x84'\n",
      "==========================================================\n",
      "b'^\\xb9\\xf5:\\xa2\\xad6iN\\xb7\\xa6\\x9b\\xca\\x01}\\x10\\xe7\\x0b\\x10\\x7fV\\xbc\\xda\\x9d\\x17\\xeb\\xf2\\xc8\\x01X\\x8dr\\xc8g\\x91A\\xb4*\\xc3%\\x04\\xd4\\xd9!7\\xdf\\xaa\\xc9\\x1b\\\\\\xee\\xc4G\\xda$\\x1a\\xa2\\xbf\\xb2\\x7f\\x1f\\x92\\x89\\xa3\\xe6]])/\\xce\\x949\\xfbd4I\\ta\\x05\\xad\\xc7zK+\\x19\\xda\\xb8\\x9dn\\x02\\x82N\\x08\\x8cW\\xf5\\x93vHX\\x96\\x99\\x8d\\xa3\\xe8]!\\x87\\xeeH\\xa6\\x1e$\\xa1(L^\\xc6V\\xfd\\xe1\\xa2\\xdb7\\xac\\n\\xc3i\\xd8\\x80ghinn\\xb3upl\\xa2\\x03\\xc1\\xe1d\\x9e\\x05\\xd2\\xbb\\t\\x94z_*g\\x9b\\x8f\\x987\\xf6\\x9f\\x8a\\x9d3i\\xba\\xfb\\xee\\xad\\xd31\\xa2\\xe0.\\x0eQ\\x8b8\\x83J\\x1fF\\x01\\xac\\x06r\\xbf\\xf9\\xd3\\xe4\\xb3\\x87=\\xf04\\xe2/y\\xf1\\x08\\x02\\x95\\x05\\xef\\xaa\\xe1=\\xf7\\xd4+\\xfb\\xfb\\xb2n\\x97\\xea\\x80\\xc1\\x9c\\xdf\\x89\\xf8\\x90S\\xe0\\xa1\\x04\\x1c\\xea6\\x91!\\x8d\\x97\\x84\\x0b\\x9a\\x08\\xa6\\x13\\xf69\\xc7PB0\\xd6qZ\\xe0Z\\x99A\\x8b\\x16)I'\n",
      "==========================================================\n",
      "b\"\\x8c\\xbb\\xbc\\x9d\\xe9\\xeda\\x8eir\\xa9\\xd1\\xd8\\xe3\\x7f\\xafI\\x83c\\x93\\x11\\xb4\\xdb\\xb9\\xfd\\x17|\\xdb'\\xec\\xbe7\\xafk\\x14\\x96\\xfcTRcb!\\n\\xb5K\\x94\\xc7\\x01x\\x8f\\xaf\\xab\\xc7\\x02\\x9e\\xc0\\x94\\xae\\x81\\xf4U J\\x8e\\xca\\xa9\\x9ci\\x98\\x89r@\\xb3\\xd1\\xc6\\x82\\xa5xqMm\\xda\\xdf\\xd3\\xf3\\xe346\\xfa4<_n\\x93\\r+\\xe6\\xccQg\\r\\x88\\x89\\x8d\\xc6q\\x8c\\x04\\xf3\\xb1\\xbd\\x01\\xf6\\xd7@\\xc8^G\\x13\\xa1f\\xc9\\x11\\x995$\\xc2\\x80\\x1bC\\xf9\\xcfQm\\xc7\\xf3\\xc2\\xcc\\xf1\\xbe\\x8fG\\xecC\\x08\\x9c\\xef\\xdd|\\x1b\\x95B\\xdc:\\xd7\\x05\\xc1V\\x02\\xb1\\xfa\\xfbAw\\x1e\\n\\xf0\\x00\\xac\\xf7\\xf3b>\\x0eP\\x85\\x15\\xb0\\x04\\xf5\\xce\\xbb$\\x0b\\xe5\\xa7\\xb0\\xa1\\xcc\\xce\\xdb\\xdaa\\xbf\\x1eg\\x7fo>E\\x01\\x1c4\\xaf3?\\xcc\\xe4\\xb8\\x0f\\xe8\\xe1\\xa8J\\xd3\\xba\\xc8\\xce-\\xc0N\\xc8z9\\xd6\\x1a5[m\\xc5\\x0cSgq%\\xc0[\\x04\\xe6\\xdaB\\xacA\\x87T\\x0f\\x8d\\xf1j\\xbf\\xc3|2\\xa6j\\xa2\"\n",
      "==========================================================\n",
      "b'\\x8dWN\\x18d\\xb5+\\xa8F\\xb5\\xac\\x8d\\xd4M\\xde\\xe3\\x89\\x86\\x99\\xb2!\\x8d\\xad\\x8a$\\xad\\xeb(^\\x85\\xf4D\\xf8\\x0c\\x19]}jdY\\x96\\xb2GO9\\x9a5\\xde\\x99\\xfa\\xaek\\xf6\\xf6_\\xd1\\xcd\\xb4k\\xe0\\xf1fS&\\xaf\\xf9\\xeck\\x19\\x93U*\\x01\\xb21&\\xdc\\x9f*\\xe7\\xeb\\xf7H\\'V\\xa5\\xc1x\\xa6s@Yy\\xf1\\x19Ma\\xb1\\xc3}5\\x1aF\\x1e\\xfc.\\x96\\x02\\x16-\\x97u\\xf9E\\xc1\\xacV0k\\xfc\\xeb\\xc8\\xd7\"\\xa7N\\xd7\\x89\\xc7\\x8a\\n5\\xbf\\xf5\\tX\\xd4\\xe7scFp\\x9d\\xa8Z?\\x80\\xd1\\xba\\xaa\\x80\\xd0\\xe2\\xb4\\xae\\xd3\\xf0\\xd7\\xa2\\xae\\x0c\\xe9\\x16\\x12\\x9a\\x14\\x94\\x0c\\xf8P\\xba\\xb9.\\x15\\x14\\xf9\\xc9\\xea\\x8cO\\xc2\\x99I\\xd7pWv\\xfc\\x96\\x93\\xe8\\xbd\\x93\\xc1\\x90y\\xf0d0H\\x17\\x1b\\x98\\xd2\\xe7\\xe2\\xaa7\\xde\\xc8\\xb3V\\xe2\\x19D\\xfa\\xaf\\xee\\x8a\\xf2\\tTXu\\xd4|\\xf4\\x0bN\\xf3;x\\xc8?\\xe8W\\xcc\\xebh\\xa5\\x1b#\\x87:3\\x95[\\x8c\\xccg\\x8eof\\xcf\\xd6d'\n",
      "==========================================================\n",
      "b'c\\'\\xe7\\xf5L\\xa2\\x12D\\x91r\\xd4\\xd8B\\xe2\\xef\\xf7\\x05\\xca\\xc5\\xc4\\x9b\\xd9\\xf18\\x8eA\\x05TN^F\\xa5r-\\xd0fm16p\\x1dbj\\xf1\\xfa\\x0f\\xae\\xe4#\\xf9\\xac\\xe5\\xb8\\x98z\\x02J\\x0c\\xbb\\xfbY\\xbbg\\x17)\\xd6\\xb8]_R\\n\\xde\\xf6\\x8d\\xe4\\x18\\x80\\x91@Al.\\xa3z\\xaf\\xc2)\"\\x9b\\x91\\x89|^\\x1d#VQhL\\x05\\xdb\\xad:\\x9e>npO\\x82(ug\\xad\\xa4d\\x92\\xfd\\xc52\\xaa\\xe6\\xa7\\nn!\\xb6\\'\\x14;\\xcd\\xcc\\xad\\x82\\xaeF\\x11p\\xea\\x923\\xe6\\x03\\xd4J{\\xaf\\xca8\\xeaM\\x8f\\x18}?\\xb8\\x9a\\xce\\x08H9\\x8f3N\\x9fN\\xd1W7\\xd3b\\xc2\\xb3\\xa5X\\xbf\\x06\\x05\\xd2s\\x01\\x04\\x88\\xc1\\x1e`\\x8dJ\\xb7\\xdc\\xe7\\xcd\\xce)\\x05\\x81\\xddC)\\xa6\\xe5\\xaa#\\x19U\\xabG0/T\\xc3\\xb9?\\x86S\\x8f\\xf9\\x90w\\xbb\\xbf\\x1d\\xc9\\x9f,\\x8e|s3\\x9b(\\x081Q\\xf8\\x0bP\\xea\\xcb\\xe5\\'\\xee\\xc7\\x89\\xd4y\\x97\\x92\\x9e\\xbf\\x1eD\\xc8\\x8c9\\xd07'\n",
      "==========================================================\n",
      "b'\\x12\\x1c\\xe0rj\\x90\\xe2\\xdb\\x80Q\\xf6\\xf2\\xec\\xe1\\x86\\x81\\\\\\'1\\x81p\\xa8S\\xe6M9?\\xe8\\xdd\\x0e,\\x07\\xee\\x87\\xe1\\xad>q\\xa9\\xf8\\xb8C\\xe9 \\x80\\xbeYS\\x07O\\xca\\xce\\xd9\\x19f\\x99\\x1a\\xd0i\\xf3\\xed\\x96\\'oT\\xc7\\xe4\\xa7\\xf6{\\x14|\\x1b\\x8er\\x8b\\xc3\\xd0\\xf4b\\x0fK,\\t\\xda0V\\x7f\\xca\\xeb\\xad\\x87\\x8a\\x03\\xdaS\\x97\\xaaeXi\\xbe\\x80Q\\x1f\\x94\\x99s\\x9f\\xed\\xf9\\x95\\xb5\\xa3\\xba\\xb8\\x92\\xbb\\x8a\\xd6x}\\xd4|\\xcek\\xccx\\xcd\\x82\\x8b\\x9eT2\\x13\\xf7\\x1d1\\x02B\\x9c\\x8d\\xd8w\\xd7\\x14 \\xc0\\x84\\x0b\\xb9\\x11\\xf5\\xaa\\xa7(\\x8990H\\xd2\\xff\\x90\\x1a\\xdfY\\x93\\xf6u\\xa2\\x97= \\xa8\\x89\\x16\\n)t\\xe8\\xb3K\\xc7\\xc8\\xedx\\xea\\x1a\\x1cG\\xab}\\xb9=\\x8a:\\xdaU\\xf7\\xe1\\xe8\\x86m\\x0c$T:W\\x9a\\x9f\\xdb\\x90^\\xf2\\xedb\\x93\\x1eo\\xcc\\xa9\\x915\\xc1B\\xae|Y4\\xadR\\x16\\x1c7\\xa7j&\\xedN\\xd8\\xd3\\xce\\xb1\\xbf3\\xf2\\xde\\x94\\x90\\xf6\\xd1\\x14L\"\\xf2\\xd8'\n",
      "==========================================================\n",
      "b'|F\"\\x99\\x82h\\x87|\\x87\\xb1\\xab\\xf7K\\xea\\xefL\\x84/\\xd9\\x9f\\x88KM\\x80\\xfaw\\xde\\xb2%\\x1b\\xbb\\x7f\\xf4\\xe9|5?\\xcd%df_!\\xf0\\xd8\\xee\\xd5\\xdaCx\\x12\\xcd\\x83\\x12\\xc7\\xbbRF\\xa5M\"$Qa\\xb1\\xa6a\\x02\\xa3\\xce\\xd7\\xb7\\xedjz\\x95\\rL\\ti8 \\x87\\x18E\\xfe\\xa3\\xd4\\xbco\\xe0\\xfa\\xbd\\x1d\\x80\\xe7\\xd9_\\xa8\\x9b\\xccM\\xcc\\x8b\\xc1a`\\xbc\\xa1\\xd8 \\n\\xa0\\xe1;~p\\xe9\\x9d1\\x87\\xe6\\xb0\\xc3\\xf8\\x8c\\x10\\xbd{C\\x91\\xd7\\x8eM\\xd9\\xad\\xe0xy\\xb7lC\\x005\\x0e\\x13\\x17\\xf7U\\x8c\\xa8\\xe6\\x1b-\\x94\\x04\\xaf\\xce\\x94`\\xb1\\xa4m\\x83\\xb3\\x03\\xd7a\\xb1\\xaf\\x9b\\xa3\\xf0\\xf2p}\\rD.\\xceL\\x02\\xd1S\\xcf\\x81\\xfcr\\xef\\x1c\\xaa\\xb2\\xdbf\\xe7\\x08\\xf4}a\\xca\\xf3\\x97\\xc8?>\\x86\\xbb\\x020\\xad\\xe3n~\\x06?=\\xb9\\x1aW\\x03\\x87\\xb6\\x97\\xf7\\x19\\xa7l\\n!7\\x8a7\\r\\x98x\\xf3\\x06\\x01t\\xc6v\\x08\\xa2\\xbf\\x02\\x90O\\x7f\\xee\\x05;\\xffQ\\xfa\\xbb\\xe8'\n",
      "==========================================================\n"
     ]
    },
    {
     "ename": "ValueError",
     "evalue": "Data too long for key size. Encrypt less data or use a larger key size.",
     "output_type": "error",
     "traceback": [
      "\u001b[1;31m---------------------------------------------------------------------------\u001b[0m",
      "\u001b[1;31mValueError\u001b[0m                                Traceback (most recent call last)",
      "\u001b[1;32m<ipython-input-10-76ec2f92ed1a>\u001b[0m in \u001b[0;36m<module>\u001b[1;34m()\u001b[0m\n\u001b[0;32m      5\u001b[0m             \u001b[0mmgf\u001b[0m\u001b[1;33m=\u001b[0m\u001b[0mpadding\u001b[0m\u001b[1;33m.\u001b[0m\u001b[0mMGF1\u001b[0m\u001b[1;33m(\u001b[0m\u001b[0malgorithm\u001b[0m\u001b[1;33m=\u001b[0m\u001b[0mhashes\u001b[0m\u001b[1;33m.\u001b[0m\u001b[0mSHA256\u001b[0m\u001b[1;33m(\u001b[0m\u001b[1;33m)\u001b[0m\u001b[1;33m)\u001b[0m\u001b[1;33m,\u001b[0m\u001b[1;33m\u001b[0m\u001b[0m\n\u001b[0;32m      6\u001b[0m             \u001b[0malgorithm\u001b[0m\u001b[1;33m=\u001b[0m\u001b[0mhashes\u001b[0m\u001b[1;33m.\u001b[0m\u001b[0mSHA256\u001b[0m\u001b[1;33m(\u001b[0m\u001b[1;33m)\u001b[0m\u001b[1;33m,\u001b[0m\u001b[1;33m\u001b[0m\u001b[0m\n\u001b[1;32m----> 7\u001b[1;33m             \u001b[0mlabel\u001b[0m\u001b[1;33m=\u001b[0m\u001b[1;32mNone\u001b[0m\u001b[1;33m\u001b[0m\u001b[0m\n\u001b[0m\u001b[0;32m      8\u001b[0m         )\n\u001b[0;32m      9\u001b[0m     )\n",
      "\u001b[1;32m~\\Anaconda3\\lib\\site-packages\\cryptography\\hazmat\\backends\\openssl\\rsa.py\u001b[0m in \u001b[0;36mencrypt\u001b[1;34m(self, plaintext, padding)\u001b[0m\n\u001b[0;32m    443\u001b[0m \u001b[1;33m\u001b[0m\u001b[0m\n\u001b[0;32m    444\u001b[0m     \u001b[1;32mdef\u001b[0m \u001b[0mencrypt\u001b[0m\u001b[1;33m(\u001b[0m\u001b[0mself\u001b[0m\u001b[1;33m,\u001b[0m \u001b[0mplaintext\u001b[0m\u001b[1;33m,\u001b[0m \u001b[0mpadding\u001b[0m\u001b[1;33m)\u001b[0m\u001b[1;33m:\u001b[0m\u001b[1;33m\u001b[0m\u001b[0m\n\u001b[1;32m--> 445\u001b[1;33m         \u001b[1;32mreturn\u001b[0m \u001b[0m_enc_dec_rsa\u001b[0m\u001b[1;33m(\u001b[0m\u001b[0mself\u001b[0m\u001b[1;33m.\u001b[0m\u001b[0m_backend\u001b[0m\u001b[1;33m,\u001b[0m \u001b[0mself\u001b[0m\u001b[1;33m,\u001b[0m \u001b[0mplaintext\u001b[0m\u001b[1;33m,\u001b[0m \u001b[0mpadding\u001b[0m\u001b[1;33m)\u001b[0m\u001b[1;33m\u001b[0m\u001b[0m\n\u001b[0m\u001b[0;32m    446\u001b[0m \u001b[1;33m\u001b[0m\u001b[0m\n\u001b[0;32m    447\u001b[0m     \u001b[1;32mdef\u001b[0m \u001b[0mpublic_numbers\u001b[0m\u001b[1;33m(\u001b[0m\u001b[0mself\u001b[0m\u001b[1;33m)\u001b[0m\u001b[1;33m:\u001b[0m\u001b[1;33m\u001b[0m\u001b[0m\n",
      "\u001b[1;32m~\\Anaconda3\\lib\\site-packages\\cryptography\\hazmat\\backends\\openssl\\rsa.py\u001b[0m in \u001b[0;36m_enc_dec_rsa\u001b[1;34m(backend, key, data, padding)\u001b[0m\n\u001b[0;32m     66\u001b[0m         )\n\u001b[0;32m     67\u001b[0m \u001b[1;33m\u001b[0m\u001b[0m\n\u001b[1;32m---> 68\u001b[1;33m     \u001b[1;32mreturn\u001b[0m \u001b[0m_enc_dec_rsa_pkey_ctx\u001b[0m\u001b[1;33m(\u001b[0m\u001b[0mbackend\u001b[0m\u001b[1;33m,\u001b[0m \u001b[0mkey\u001b[0m\u001b[1;33m,\u001b[0m \u001b[0mdata\u001b[0m\u001b[1;33m,\u001b[0m \u001b[0mpadding_enum\u001b[0m\u001b[1;33m,\u001b[0m \u001b[0mpadding\u001b[0m\u001b[1;33m)\u001b[0m\u001b[1;33m\u001b[0m\u001b[0m\n\u001b[0m\u001b[0;32m     69\u001b[0m \u001b[1;33m\u001b[0m\u001b[0m\n\u001b[0;32m     70\u001b[0m \u001b[1;33m\u001b[0m\u001b[0m\n",
      "\u001b[1;32m~\\Anaconda3\\lib\\site-packages\\cryptography\\hazmat\\backends\\openssl\\rsa.py\u001b[0m in \u001b[0;36m_enc_dec_rsa_pkey_ctx\u001b[1;34m(backend, key, data, padding_enum, padding)\u001b[0m\n\u001b[0;32m    123\u001b[0m     \u001b[0mres\u001b[0m \u001b[1;33m=\u001b[0m \u001b[0mcrypt\u001b[0m\u001b[1;33m(\u001b[0m\u001b[0mpkey_ctx\u001b[0m\u001b[1;33m,\u001b[0m \u001b[0mbuf\u001b[0m\u001b[1;33m,\u001b[0m \u001b[0moutlen\u001b[0m\u001b[1;33m,\u001b[0m \u001b[0mdata\u001b[0m\u001b[1;33m,\u001b[0m \u001b[0mlen\u001b[0m\u001b[1;33m(\u001b[0m\u001b[0mdata\u001b[0m\u001b[1;33m)\u001b[0m\u001b[1;33m)\u001b[0m\u001b[1;33m\u001b[0m\u001b[0m\n\u001b[0;32m    124\u001b[0m     \u001b[1;32mif\u001b[0m \u001b[0mres\u001b[0m \u001b[1;33m<=\u001b[0m \u001b[1;36m0\u001b[0m\u001b[1;33m:\u001b[0m\u001b[1;33m\u001b[0m\u001b[0m\n\u001b[1;32m--> 125\u001b[1;33m         \u001b[0m_handle_rsa_enc_dec_error\u001b[0m\u001b[1;33m(\u001b[0m\u001b[0mbackend\u001b[0m\u001b[1;33m,\u001b[0m \u001b[0mkey\u001b[0m\u001b[1;33m)\u001b[0m\u001b[1;33m\u001b[0m\u001b[0m\n\u001b[0m\u001b[0;32m    126\u001b[0m \u001b[1;33m\u001b[0m\u001b[0m\n\u001b[0;32m    127\u001b[0m     \u001b[1;32mreturn\u001b[0m \u001b[0mbackend\u001b[0m\u001b[1;33m.\u001b[0m\u001b[0m_ffi\u001b[0m\u001b[1;33m.\u001b[0m\u001b[0mbuffer\u001b[0m\u001b[1;33m(\u001b[0m\u001b[0mbuf\u001b[0m\u001b[1;33m)\u001b[0m\u001b[1;33m[\u001b[0m\u001b[1;33m:\u001b[0m\u001b[0moutlen\u001b[0m\u001b[1;33m[\u001b[0m\u001b[1;36m0\u001b[0m\u001b[1;33m]\u001b[0m\u001b[1;33m]\u001b[0m\u001b[1;33m\u001b[0m\u001b[0m\n",
      "\u001b[1;32m~\\Anaconda3\\lib\\site-packages\\cryptography\\hazmat\\backends\\openssl\\rsa.py\u001b[0m in \u001b[0;36m_handle_rsa_enc_dec_error\u001b[1;34m(backend, key)\u001b[0m\n\u001b[0;32m    136\u001b[0m                 backend._lib.RSA_R_DATA_TOO_LARGE_FOR_KEY_SIZE)\n\u001b[0;32m    137\u001b[0m         raise ValueError(\n\u001b[1;32m--> 138\u001b[1;33m             \u001b[1;34m\"Data too long for key size. Encrypt less data or use a \"\u001b[0m\u001b[1;33m\u001b[0m\u001b[0m\n\u001b[0m\u001b[0;32m    139\u001b[0m             \u001b[1;34m\"larger key size.\"\u001b[0m\u001b[1;33m\u001b[0m\u001b[0m\n\u001b[0;32m    140\u001b[0m         )\n",
      "\u001b[1;31mValueError\u001b[0m: Data too long for key size. Encrypt less data or use a larger key size."
     ]
    }
   ],
   "source": [
    " for message in split_img:\n",
    "    ciphertext = public_key.encrypt(\n",
    "         message,\n",
    "         padding.OAEP(\n",
    "             mgf=padding.MGF1(algorithm=hashes.SHA256()),\n",
    "             algorithm=hashes.SHA256(),\n",
    "             label=None\n",
    "         )\n",
    "     )\n",
    "    print(ciphertext)\n",
    "    print(\"==========================================================\")"
   ]
  },
  {
   "cell_type": "markdown",
   "metadata": {},
   "source": [
    "### Saving to gleipnir file format ###"
   ]
  },
  {
   "cell_type": "code",
   "execution_count": null,
   "metadata": {},
   "outputs": [],
   "source": [
    "encrypted_file = \"block_01.glp\"\n",
    "with open(encrypted_file, 'wb') as file_out:\n",
    "    file_out.write(ciphertext)"
   ]
  },
  {
   "cell_type": "markdown",
   "metadata": {},
   "source": [
    "### Loading Gleipnir's file and decrypting it ###"
   ]
  },
  {
   "cell_type": "code",
   "execution_count": null,
   "metadata": {},
   "outputs": [],
   "source": [
    "with open(encrypted_file, 'rb') as file_in:\n",
    "    encrypted_message = file_in.read()\n",
    "\n",
    "plaintext = private_key.decrypt(\n",
    "     encrypted_message,\n",
    "     padding.OAEP(\n",
    "         mgf=padding.MGF1(algorithm=hashes.SHA256()),\n",
    "         algorithm=hashes.SHA256(),\n",
    "         label=None\n",
    "     )\n",
    " )\n",
    "plaintext == message\n",
    "plaintext"
   ]
  },
  {
   "cell_type": "markdown",
   "metadata": {},
   "source": [
    "### Putting Everything Together ###"
   ]
  },
  {
   "cell_type": "code",
   "execution_count": null,
   "metadata": {},
   "outputs": [],
   "source": [
    "class GleipnirError(Exception):\n",
    "    def __init__(self, message, errors):\n",
    "\n",
    "        # Call the base class constructor with the parameters it needs\n",
    "        super().__init__(message)\n",
    "\n",
    "        # Now for your custom code...\n",
    "        self.errors = errors\n",
    "\n",
    "class Gleipnir(object):\n",
    "    def __init__(self, private_key, args):\n",
    "        self.private_key = private_key\n",
    "        self.args = args\n",
    "        \n",
    "        self.file = None\n",
    "        self.file_bin = None\n",
    "        self.split = None\n",
    "        self.output = None\n",
    "        \n",
    "    def get_file(self):\n",
    "        if self.args.file is not None:\n",
    "            self.file = self.args.file\n",
    "            with open(self.file, 'rb') as img:\n",
    "                self.file_bin = img.read()\n",
    "            return self.file_bin\n",
    "        return None\n",
    "    \n",
    "    def get_split(self, low=False, medium=False, high=False):\n",
    "        if self.args.split is not None:\n",
    "            self.split = self.args.split\n",
    "            return self.split\n",
    "        else:\n",
    "            num_img = len(self.file_bin)\n",
    "            if self.file_bin is not None:\n",
    "                incrementor = 2\n",
    "                check = False\n",
    "                while not check:\n",
    "                    if num_img % incrementor != 0:\n",
    "                        print(incrementor)\n",
    "                        incrementor += 1\n",
    "                    else:\n",
    "                        \n",
    "                        check = True\n",
    "                        self.split = incrementor\n",
    "                return self.split\n",
    "            else:\n",
    "                raise GleipnirError(\"No file has been found...\", {\"file\": \"file not found\"})\n",
    "                \n",
    "    def _split_file(self):\n",
    "        if self.split is not None:\n",
    "            split_img = self.file_bin.split(maxsplit=int(self.split))\n",
    "            return split_img\n",
    "        return None\n",
    "\n",
    "    def get_public_key(self):\n",
    "        return self.private_key.public_key()\n",
    "        \n",
    "    def encrypting_blocks(self):\n",
    "        public_key = self.get_public_key()\n",
    "        split_file = _self._split_file()\n",
    "        if split_file is not None:\n",
    "            if args.output is not None:\n",
    "                output = args.output\n",
    "                for increment, text_block in enumerate(split_file):\n",
    "                    ciphertext = public_key.encrypt(\n",
    "                         text_block,\n",
    "                         padding.OAEP(\n",
    "                             mgf=padding.MGF1(algorithm=hashes.SHA256()),\n",
    "                             algorithm=hashes.SHA256(),\n",
    "                             label=None\n",
    "                         )\n",
    "                     )\n",
    "                    if output.endswith(\".glp\"):\n",
    "                        encrypted_file = os.path.join(os.path.dirname(output), \"block_{:>04d}.glp\".format(increment))\n",
    "                        with open(encrypted_file, 'wb') as file_out:\n",
    "                            file_out.write(ciphertext)"
   ]
  },
  {
   "cell_type": "code",
   "execution_count": null,
   "metadata": {},
   "outputs": [],
   "source": [
    "filename = 'privkey.pem'\n",
    "private_key = load_key(filename)\n",
    "\n",
    "import argparse\n",
    "\n",
    "\n",
    "def get_gleipnir_args():\n",
    "    parser = argparse.ArgumentParser()\n",
    "    main_group = parser.add_argument_group(\"Main options\")\n",
    "    main_group.add_argument(\"-f\", \"--file\", action=\"store\",\n",
    "                            help=\"Get the path of the file.\")\n",
    "    main_group.add_argument(\"-s\", \"--split\", action=\"store\",\n",
    "                            help=\"force the number of blocks that split \"\n",
    "                            \"the file.\")\n",
    "    main_group.add_argument(\"-o\", \"--output\", action=\"store\",\n",
    "                            help=\"specify the output path of the blocks.\")\n",
    "    return parser.parse_args()"
   ]
  },
  {
   "cell_type": "code",
   "execution_count": null,
   "metadata": {},
   "outputs": [],
   "source": [
    "import Crypto\n",
    "help(Crypto)"
   ]
  }
 ],
 "metadata": {
  "kernelspec": {
   "display_name": "Python 3",
   "language": "python",
   "name": "python3"
  },
  "language_info": {
   "codemirror_mode": {
    "name": "ipython",
    "version": 3
   },
   "file_extension": ".py",
   "mimetype": "text/x-python",
   "name": "python",
   "nbconvert_exporter": "python",
   "pygments_lexer": "ipython3",
   "version": "3.6.4"
  }
 },
 "nbformat": 4,
 "nbformat_minor": 2
}
