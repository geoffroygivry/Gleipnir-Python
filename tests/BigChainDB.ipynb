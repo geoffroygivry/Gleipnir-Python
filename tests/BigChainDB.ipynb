{
 "cells": [
  {
   "cell_type": "markdown",
   "metadata": {},
   "source": [
    "## Connect to BigChainDB ##"
   ]
  },
  {
   "cell_type": "code",
   "execution_count": 1,
   "metadata": {},
   "outputs": [],
   "source": [
    "from bigchaindb_driver import BigchainDB\n",
    "tokens = {}\n",
    "tokens['app_id'] = 'e2caa86f'\n",
    "tokens['app_key'] = '768e14bf51c1caf81b5a1b77dfb8e966'\n",
    "bdb = BigchainDB('https://test.bigchaindb.com', headers=tokens)"
   ]
  },
  {
   "cell_type": "markdown",
   "metadata": {},
   "source": [
    "## Creating an Asset in dict format ##"
   ]
  },
  {
   "cell_type": "code",
   "execution_count": 2,
   "metadata": {},
   "outputs": [],
   "source": [
    "bicycle = {\n",
    "        'data': {\n",
    "            'bicycle': {\n",
    "                'serial_number': 'abcd1234',\n",
    "                'manufacturer': 'bkfab',\n",
    "            },\n",
    "        },\n",
    "    }"
   ]
  },
  {
   "cell_type": "code",
   "execution_count": 6,
   "metadata": {},
   "outputs": [],
   "source": [
    "metadata = {'Owner': 'Geoff'}"
   ]
  },
  {
   "cell_type": "markdown",
   "metadata": {},
   "source": [
    "## Cryptographic Identities Generation ##\n",
    "-----\n",
    "Alice and Bob are represented by public/private key pairs. The private key is used to sign transactions, meanwhile the public key is used to verify that a signed transaction was indeed signed by the one who claims to be the signee.\n"
   ]
  },
  {
   "cell_type": "code",
   "execution_count": 4,
   "metadata": {},
   "outputs": [],
   "source": [
    "from bigchaindb_driver.crypto import generate_keypair\n",
    "\n",
    "alice, bob = generate_keypair(), generate_keypair()"
   ]
  },
  {
   "cell_type": "markdown",
   "metadata": {},
   "source": [
    "## Asset Creation ##\n",
    "We’re now ready to create the digital asset. First, let’s prepare the transaction:"
   ]
  },
  {
   "cell_type": "code",
   "execution_count": 7,
   "metadata": {},
   "outputs": [],
   "source": [
    "prepared_creation_tx = bdb.transactions.prepare(\n",
    "        operation='CREATE',\n",
    "        signers=alice.public_key,\n",
    "        asset=bicycle,\n",
    "        metadata=metadata,\n",
    "    )"
   ]
  },
  {
   "cell_type": "code",
   "execution_count": 8,
   "metadata": {},
   "outputs": [
    {
     "name": "stdout",
     "output_type": "stream",
     "text": [
      "{'asset': {'data': {'bicycle': {'manufacturer': 'bkfab',\n",
      "                                'serial_number': 'abcd1234'}}},\n",
      " 'id': None,\n",
      " 'inputs': [{'fulfillment': {'public_key': 'C71kF1JR3BayFQP1GPJKXGwudNT7eN8L8gHYPn1PPxBF',\n",
      "                             'type': 'ed25519-sha-256'},\n",
      "             'fulfills': None,\n",
      "             'owners_before': ['C71kF1JR3BayFQP1GPJKXGwudNT7eN8L8gHYPn1PPxBF']}],\n",
      " 'metadata': {'Owner': 'Geoff'},\n",
      " 'operation': 'CREATE',\n",
      " 'outputs': [{'amount': '1',\n",
      "              'condition': {'details': {'public_key': 'C71kF1JR3BayFQP1GPJKXGwudNT7eN8L8gHYPn1PPxBF',\n",
      "                                        'type': 'ed25519-sha-256'},\n",
      "                            'uri': 'ni:///sha-256;vncoSpJB8cDCGXOu2TvGH8Oy5K76hHjoBR9FVWdO-i4?fpt=ed25519-sha-256&cost=131072'},\n",
      "              'public_keys': ['C71kF1JR3BayFQP1GPJKXGwudNT7eN8L8gHYPn1PPxBF']}],\n",
      " 'version': '2.0'}\n"
     ]
    }
   ],
   "source": [
    "from pprint import pprint\n",
    "pprint(prepared_creation_tx)"
   ]
  },
  {
   "cell_type": "markdown",
   "metadata": {},
   "source": [
    "The transaction now needs to be fulfilled by signing it with Alice’s private key:"
   ]
  },
  {
   "cell_type": "code",
   "execution_count": 9,
   "metadata": {},
   "outputs": [],
   "source": [
    "fulfilled_creation_tx = bdb.transactions.fulfill(\n",
    "        prepared_creation_tx, private_keys=alice.private_key)"
   ]
  },
  {
   "cell_type": "code",
   "execution_count": 10,
   "metadata": {},
   "outputs": [
    {
     "name": "stdout",
     "output_type": "stream",
     "text": [
      "{'asset': {'data': {'bicycle': {'manufacturer': 'bkfab',\n",
      "                                'serial_number': 'abcd1234'}}},\n",
      " 'id': '72d9e0661ca24a0fcdaaba65ce4648429fefb3a5f2c8fd05625c0b274b5d8595',\n",
      " 'inputs': [{'fulfillment': 'pGSAIKT64k_rnX83OVFd18_8cu_SlKuO-zVSaM4lWEsAUxcegUDv6lHV-Wk6T_1zGCee9K-1UtIN6kWwBXlVISoNYdu3mMsroBLGaBrfA8_bh2RAQ7gLvNYQ5H0AVfRqI4c7t0kO',\n",
      "             'fulfills': None,\n",
      "             'owners_before': ['C71kF1JR3BayFQP1GPJKXGwudNT7eN8L8gHYPn1PPxBF']}],\n",
      " 'metadata': {'Owner': 'Geoff'},\n",
      " 'operation': 'CREATE',\n",
      " 'outputs': [{'amount': '1',\n",
      "              'condition': {'details': {'public_key': 'C71kF1JR3BayFQP1GPJKXGwudNT7eN8L8gHYPn1PPxBF',\n",
      "                                        'type': 'ed25519-sha-256'},\n",
      "                            'uri': 'ni:///sha-256;vncoSpJB8cDCGXOu2TvGH8Oy5K76hHjoBR9FVWdO-i4?fpt=ed25519-sha-256&cost=131072'},\n",
      "              'public_keys': ['C71kF1JR3BayFQP1GPJKXGwudNT7eN8L8gHYPn1PPxBF']}],\n",
      " 'version': '2.0'}\n"
     ]
    }
   ],
   "source": [
    "pprint(fulfilled_creation_tx)"
   ]
  },
  {
   "cell_type": "markdown",
   "metadata": {},
   "source": [
    "Send it over the bigChainDB node"
   ]
  },
  {
   "cell_type": "code",
   "execution_count": 11,
   "metadata": {},
   "outputs": [],
   "source": [
    "sent_creation_tx = bdb.transactions.send(fulfilled_creation_tx)"
   ]
  },
  {
   "cell_type": "code",
   "execution_count": 12,
   "metadata": {},
   "outputs": [
    {
     "data": {
      "text/plain": [
       "True"
      ]
     },
     "execution_count": 12,
     "metadata": {},
     "output_type": "execute_result"
    }
   ],
   "source": [
    "sent_creation_tx == fulfilled_creation_tx"
   ]
  },
  {
   "cell_type": "code",
   "execution_count": 13,
   "metadata": {},
   "outputs": [
    {
     "name": "stdout",
     "output_type": "stream",
     "text": [
      "72d9e0661ca24a0fcdaaba65ce4648429fefb3a5f2c8fd05625c0b274b5d8595\n"
     ]
    }
   ],
   "source": [
    "txid = fulfilled_creation_tx['id']\n",
    "print(txid)"
   ]
  },
  {
   "cell_type": "code",
   "execution_count": 16,
   "metadata": {},
   "outputs": [
    {
     "data": {
      "text/plain": [
       "42343"
      ]
     },
     "execution_count": 16,
     "metadata": {},
     "output_type": "execute_result"
    }
   ],
   "source": [
    "block_height = bdb.blocks.get(txid=fulfilled_creation_tx['id'])\n",
    "block_height"
   ]
  },
  {
   "cell_type": "code",
   "execution_count": 17,
   "metadata": {},
   "outputs": [
    {
     "name": "stdout",
     "output_type": "stream",
     "text": [
      "{'height': 42343,\n",
      " 'transactions': [{'asset': {'data': {'bicycle': {'manufacturer': 'bkfab',\n",
      "                                                  'serial_number': 'abcd1234'}}},\n",
      "                   'id': '6b7068c25b2a347f9d1412ee74931f419bc69773c7160cb47c16859a9e95f16e',\n",
      "                   'inputs': [{'fulfillment': 'pGSAII9_rJbfITEvHsK9bZ3G7V2ZIO6B0An-zKnFU5wZY8irgUAW9xkbkRZIMw-mf3S7xYNTpQJYceb9QnE-zNEyHZzbzyd8UGfz0tpABf44_j8B8EHf_7jmPnaO8lDvxnYOyC0O',\n",
      "                               'fulfills': None,\n",
      "                               'owners_before': ['AfADZCmK8jxxQ6xrGqWunz8264a26vTsiG1oG2VCiQYJ']}],\n",
      "                   'metadata': {'Owner': 'Geoff'},\n",
      "                   'operation': 'CREATE',\n",
      "                   'outputs': [{'amount': '1',\n",
      "                                'condition': {'details': {'public_key': 'AfADZCmK8jxxQ6xrGqWunz8264a26vTsiG1oG2VCiQYJ',\n",
      "                                                          'type': 'ed25519-sha-256'},\n",
      "                                              'uri': 'ni:///sha-256;Gn1Lw9jAZbneH6zCFot-84wSZTU06WD7dF9hWlcoSag?fpt=ed25519-sha-256&cost=131072'},\n",
      "                                'public_keys': ['AfADZCmK8jxxQ6xrGqWunz8264a26vTsiG1oG2VCiQYJ']}],\n",
      "                   'version': '2.0'}]}\n"
     ]
    }
   ],
   "source": [
    "block = bdb.blocks.retrieve(str(block_height))\n",
    "pprint(block)"
   ]
  },
  {
   "cell_type": "markdown",
   "metadata": {},
   "source": [
    "Check this:\n",
    "https://test.bigchaindb.com/api/v1/transactions/72d9e0661ca24a0fcdaaba65ce4648429fefb3a5f2c8fd05625c0b274b5d8595"
   ]
  },
  {
   "cell_type": "markdown",
   "metadata": {},
   "source": [
    "Alice could retrieve the transaction:"
   ]
  },
  {
   "cell_type": "code",
   "execution_count": 15,
   "metadata": {},
   "outputs": [],
   "source": [
    "creation_tx = bdb.transactions.retrieve(txid)\n",
    "asset_id = creation_tx['id']\n",
    "transfer_asset = {\n",
    "        'id': asset_id,\n",
    "    }"
   ]
  },
  {
   "cell_type": "markdown",
   "metadata": {},
   "source": [
    "Let’s now prepare the transfer transaction:"
   ]
  },
  {
   "cell_type": "code",
   "execution_count": 16,
   "metadata": {},
   "outputs": [],
   "source": [
    "output_index = 0\n",
    "\n",
    "output = creation_tx['outputs'][output_index]\n",
    "\n",
    "transfer_input = {\n",
    "    'fulfillment': output['condition']['details'],\n",
    "    'fulfills': {\n",
    "         'output_index': output_index,\n",
    "         'transaction_id': creation_tx['id'],\n",
    "     },\n",
    "     'owners_before': output['public_keys'],\n",
    "}\n",
    "\n",
    "\n",
    "prepared_transfer_tx = bdb.transactions.prepare(\n",
    "    operation='TRANSFER',\n",
    "    asset=transfer_asset,\n",
    "    inputs=transfer_input,\n",
    "    recipients=bob.public_key)"
   ]
  },
  {
   "cell_type": "markdown",
   "metadata": {},
   "source": [
    "fulfill it:"
   ]
  },
  {
   "cell_type": "code",
   "execution_count": 17,
   "metadata": {},
   "outputs": [],
   "source": [
    "fulfilled_transfer_tx = bdb.transactions.fulfill(\n",
    "        prepared_transfer_tx,\n",
    "        private_keys=alice.private_key,\n",
    "    )"
   ]
  },
  {
   "cell_type": "code",
   "execution_count": 18,
   "metadata": {},
   "outputs": [
    {
     "name": "stdout",
     "output_type": "stream",
     "text": [
      "{'asset': {'id': '72d9e0661ca24a0fcdaaba65ce4648429fefb3a5f2c8fd05625c0b274b5d8595'},\n",
      " 'id': '1f62cdbed8bf539b5c45db2098718ab82a85888a5b36c5113c06385c0701ed94',\n",
      " 'inputs': [{'fulfillment': 'pGSAIKT64k_rnX83OVFd18_8cu_SlKuO-zVSaM4lWEsAUxcegUDOT5kUgw9Vtx_ZuIyH_OdrWxSvSaokFXGOWhGEbXpQUod22vYlbmoS389DH07N0ZDPdUApT-4qBT0514qyqF8F',\n",
      "             'fulfills': {'output_index': 0,\n",
      "                          'transaction_id': '72d9e0661ca24a0fcdaaba65ce4648429fefb3a5f2c8fd05625c0b274b5d8595'},\n",
      "             'owners_before': ['C71kF1JR3BayFQP1GPJKXGwudNT7eN8L8gHYPn1PPxBF']}],\n",
      " 'metadata': None,\n",
      " 'operation': 'TRANSFER',\n",
      " 'outputs': [{'amount': '1',\n",
      "              'condition': {'details': {'public_key': 'DvY2qFn8KiArtEHt3bQ9s1SLMCxFSfAH51vCCuqMesiP',\n",
      "                                        'type': 'ed25519-sha-256'},\n",
      "                            'uri': 'ni:///sha-256;pQNJmsxpMUxkwU_Sbx-Nwx_Rh57O8K5hNi133xrMPqU?fpt=ed25519-sha-256&cost=131072'},\n",
      "              'public_keys': ['DvY2qFn8KiArtEHt3bQ9s1SLMCxFSfAH51vCCuqMesiP']}],\n",
      " 'version': '2.0'}\n"
     ]
    }
   ],
   "source": [
    "pprint(fulfilled_transfer_tx)"
   ]
  },
  {
   "cell_type": "markdown",
   "metadata": {},
   "source": [
    "and finally send it to the connected BigchainDB node:"
   ]
  },
  {
   "cell_type": "code",
   "execution_count": 19,
   "metadata": {},
   "outputs": [
    {
     "data": {
      "text/plain": [
       "True"
      ]
     },
     "execution_count": 19,
     "metadata": {},
     "output_type": "execute_result"
    }
   ],
   "source": [
    "sent_transfer_tx = bdb.transactions.send_commit(fulfilled_transfer_tx)\n",
    "sent_transfer_tx == fulfilled_transfer_tx"
   ]
  },
  {
   "cell_type": "markdown",
   "metadata": {},
   "source": [
    "Bob is the new owner:"
   ]
  },
  {
   "cell_type": "code",
   "execution_count": 20,
   "metadata": {},
   "outputs": [
    {
     "data": {
      "text/plain": [
       "True"
      ]
     },
     "execution_count": 20,
     "metadata": {},
     "output_type": "execute_result"
    }
   ],
   "source": [
    "fulfilled_transfer_tx['outputs'][0]['public_keys'][0] == bob.public_key"
   ]
  },
  {
   "cell_type": "markdown",
   "metadata": {},
   "source": [
    "Alice is the former owner:"
   ]
  },
  {
   "cell_type": "code",
   "execution_count": 21,
   "metadata": {},
   "outputs": [
    {
     "data": {
      "text/plain": [
       "True"
      ]
     },
     "execution_count": 21,
     "metadata": {},
     "output_type": "execute_result"
    }
   ],
   "source": [
    "fulfilled_transfer_tx['inputs'][0]['owners_before'][0] == alice.public_key"
   ]
  },
  {
   "cell_type": "code",
   "execution_count": null,
   "metadata": {},
   "outputs": [],
   "source": []
  }
 ],
 "metadata": {
  "kernelspec": {
   "display_name": "Python 3",
   "language": "python",
   "name": "python3"
  },
  "language_info": {
   "codemirror_mode": {
    "name": "ipython",
    "version": 3
   },
   "file_extension": ".py",
   "mimetype": "text/x-python",
   "name": "python",
   "nbconvert_exporter": "python",
   "pygments_lexer": "ipython3",
   "version": "3.4.3"
  }
 },
 "nbformat": 4,
 "nbformat_minor": 2
}
