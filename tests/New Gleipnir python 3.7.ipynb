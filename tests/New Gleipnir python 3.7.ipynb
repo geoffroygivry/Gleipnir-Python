{
 "cells": [
  {
   "cell_type": "markdown",
   "metadata": {},
   "source": [
    "### Opening the file in binary: ###"
   ]
  },
  {
   "cell_type": "code",
   "execution_count": 61,
   "metadata": {},
   "outputs": [],
   "source": [
    "with open('/Users/geoff/Downloads/TEST_ENCRYPT.png', 'rb') as img:\n",
    "    data = img.read()"
   ]
  },
  {
   "cell_type": "markdown",
   "metadata": {},
   "source": [
    "### Character Length of the file: ###"
   ]
  },
  {
   "cell_type": "code",
   "execution_count": 62,
   "metadata": {},
   "outputs": [
    {
     "data": {
      "text/plain": [
       "341891"
      ]
     },
     "execution_count": 62,
     "metadata": {},
     "output_type": "execute_result"
    }
   ],
   "source": [
    "len_data = len(data)\n",
    "len_data"
   ]
  },
  {
   "cell_type": "markdown",
   "metadata": {},
   "source": [
    "### Spliting binary in chuncks: ###"
   ]
  },
  {
   "cell_type": "code",
   "execution_count": 63,
   "metadata": {
    "scrolled": true
   },
   "outputs": [],
   "source": [
    "def chunkstring(string, length):\n",
    "    return (string[0+i:length+i] for i in range(0, len(string), len(string)//length))"
   ]
  },
  {
   "cell_type": "code",
   "execution_count": 64,
   "metadata": {
    "scrolled": true
   },
   "outputs": [
    {
     "name": "stdout",
     "output_type": "stream",
     "text": [
      "[b'\\x89PNG\\r\\n\\x1a\\n\\x00\\x00\\x00\\rIHDR\\x00\\x00\\x02\\x08\\x00\\x00\\x01\\xa0\\x08\\x06\\x00\\x00\\x00\\xcf[\\x9f', b'\\xf8\\xcf,.\\xa0\\xa0\\xa5\\x90\\xf1t`\\x94k-{pa\\xa9\\x82\\xf3S%\\xf4tT\\x91)6\\xb0X\\xac\\xc0', b'\\xf99<82\\nO\\xa9\\x8d\\xf7rEEs\\xdfsN\\xcb{D\\x11\\x94D\\xbd<\\xb8\\x9d\\xc0\\xde\\xb6\\x85\\xf5', b'\\xb0\\xab\\x8awi\\x07\\xf6\\xb7tr\\xcd\\xbd\\nhK\\x01\\xb5h\\xb7\\xb4\\x13$8\\xc9n3\\xfc\\x9e\"\\xf7\\xdc\\x1f', b'\\xa8XJ.\\xec[\\tF\\x11O\\xa61O`\\xd5*i\\x04\\xa8\\xe1\\x9d\\x11#`\\x90Tk\\xe1 pP\\x8a', b'\\xa1\"\\xdf\\xad\\x00\\x06y\\x92\\x00\\x02\\x13\\x06e\\x18\\x9d$\\xd2\\xa0\\xdc\\xea)\\xc0\\x01\\xcf\\x18\\x08X\\xe0\\xfa\\xa0\\x1b\\xda', b'V\\xb1\\xb7\\xde \\x81\\xb9P\\x13\\x1c\\xfe\\x0ex\\xea\\xd6\\xc2\\xe4\\xec!\\x8f.H`@\\xa1g\\x01\\xe9/1lV', b'\\xdf\\xa9I\\x14\\xcc\\n\\xbcM^l\\xbe\\xa9\\x0e\\x1b[9\\xb2`\\xc3\\xa5t^\\x00\\x85\\xb8H=T\\xc5\\xd0\\xac\\xeb', b'\\n\\x17\\x15\\x9e\\x9bR\\x84\\xbbdAb,\\x83\\xf0\\xcc\\x14\\x16f\\'p\\xac\\xff\\x04\\x11\\xee\"\\x9c\\xcdk\\xe0\\xaam', b'N\\x9a\\xe4\\xbdy\\xa0\\x1c\\xd7\\r\\x08\\xe0p\\xd8\\xa5\\xe6`>\\x10\\x10\\xdf#\\xe3\\xcb\\xc9N\\xd7T\\xd7afzR', b'\\x91\\x9e\\xa1\\x83\"k\\xa5\\xc4\\xd1\\xb6*\\x01\\x9bZu\\xdeW\\xb3\\xec\\x06\\xdd\\x96\\x1a\\xaa\\xbeW\\xa1\\x95_\\x1d\\xab\\xd7', b'\\xacKA\\xd7sa\\xa9\\x88\\xc7\\xcf]\\xc2\\xe6\\x1d\\xfd\\xb8{\\xd4\\t\\xef\"=l:\\xf8\\x1e\\x8a\\xbc\\xa3\\x02D\\x0c', b'F\\xcd\\x8c\\xed@1\\xd3\\x01\\x8fk\\x01\\xea\\x951B\\xd4EXr\\x05X\\xe8\\xda\\xfd\\ru\\x88\\xf5\\x0fch`', b'\\xddp^\\x19\\xd6q\\xcf\\x17\\xa6\\xf9&\\x92\\xf4\\xf0\\xddv\\xa3~\\x14/\\xe4\\xe5\\xf0T\\x84\\x02p\\x12zc\\xce\\xe9', b'\\\\\\xd7\\x9c\\x9dN\"\\x0b\\x16C\\x05\\x0e\\xba]/mX\\xbf\\xb5\\x8a&[\\x15VCM\\x8a\\xe8.\\xc5\\x0c8\\x17', b'\\xc6]/\\x1b7\\xa3B\\x8c\\x8de\\x94\\xab\\x8a\\xday\\xc0\\xb5\\x07<\\xba\\x98{\\xd2}\\x04\\x00o\\xdd\\xbd\\x89\\x80G', b'\\xd2;\\xb0\\x8a\\xff\\xe4\\xc0\\xdbBA$\\x08\\xac\\x9fy\\xe6%\\x1al\\x0f6_\\xb1\\x05\\xa1`H\\xf5\\xa4\\x14r>', b'\\x98]^\\xc6\\x8f\\xf6\\xecA\\x94\\x1bE\\x9a\\xaaD\\x11Je\\x12\\x84\\xca\\x977\\x90\\x95\\xe6*\\x1a\\xd2\\xde\\x0e^0', b'\\x8d!D\\xf8\\xda\\x0b\\x8b\\x8b\\x85H*.A\\x00\\x8b)\\xf1\\xb1\\x16\\x13\\x90\\xf9\\xf0\\xa9dVJ3\\xbda\\x1eQ', b'5t\\x08m\\xd7\\xbf\\t\\x9ekn\\x02\\xf6\\xedA<\\xbd\\x027\\xdb\\x99\\x89i\\xfc\\xc1\\xd5\\x1f\\xc1\\xa1#3\\xb8g', b'7\\x8b\\x94M\\xdcN\\xa7\\xcc\\nq\\xb9\\xdc\\x12)3S\\x9e\\xe5\\xbd\\xb9\\xcd\\x94_\\xc7\\xad\\xb5\\xdck?19\\x81', b'\\x87\\x8f\\xca%:C5X\\xf9\\xbe\\xcf\\xa3\\xe1\\xb6O\"28\\x85\\xb9\\xe1)2\\x9ci}z`Y\\x8cEF', b'\\xd6v\\xb4\\xfa\\x9b0\\x9b\\xf1\\xa3ih\\x0b\\xa2/\\xee\\xc6\\xd9S\\x13\\xe8n\\xa5\\x98{|\\nS\\xc3\\x130\\xf8\\x9a', b'fZ/\\x07EA^\\xb7\\x07\\x0b\\xab^\\x83\\x91#/`m)\\x8c\\xa7\\xce\\x06\\xd0IN\\xbbs\\xf5e\\x18\\xcc', b'\\x81\\xd3\\x8cx3\\xde\\xd0E\\x9d\\xa6\\x96c\\x19\\xf2\\xa0\\xa0\\x11\\xab\\x90\\x07\\t\\x0e@\\x88\\xf0\\xfc\\xfa \\x05F\\xc4\\xf7', b'\\xbb\\x1f\\xa45\\xa0\\xf4\\xc2\\xc1\\x83\\xa9-3\\xa5\\x13\\xac\\xe1\\xd2\\x1f\\xfc\\x010<\\x0c\\x9c8\\x91\\xad\\\\\\xa03}\\x9f', b'\\xe7R\\x9fU\\x85\\xbb\\x02\\x05\\x1f\\xc8\\xeb\\x01\\x8a\\xca\\x1e\\xf2\\xda\\xff\\\\U\\xf8\\x9f\\xb5\\xdf\\x9b\\xfa\\xc2\\x8f\\xee\\x11\\xf2\\xbe', b'\\x9c\\xbb\\x00\\xfe\\xba.\\x06\\xb7\\xaeA\\xab;\\xd0\\xe9\\xbf\\x0e\\xech\\xf1\\xb2\\xf6\\xef\\xa9Y\\xc4R\\x84z\\n\\x11\\x80\\x9e', b'\\x9e\\xd9H\\xacESm\\x0f \\xd8AT\\x03\\x846\\xcf\\x068 \\xcfU\\xf6\\x91\\xbf\\x1fN\\x10\"\\x00\\x16h\\xc7', b'\\xb2\\xc0cM1\\x07\\\\\\x03\\x85H\\xad8\\xb3\\x14\\xe1\\xec8\\xaf\\xd2\\x90\\x0f\\xd2\\xf2\\xb3\\xb3\\t\\x10\\x84\\xc7 \\xa8\\x05', b'\\xe4\\x8b\\x03NEp\\x15\\xd9\\x02N[\\x0fd,8\\xa1\\x86\\n\\xc6@\\xf8\\xc0 `=\\xcc}\\x16\\xa3d\\xa0\\xb5', b'/mQ\\xe9\\x0b\\\\\\xc0\\x80}\\x1f\\xb69\\xe6\\xd1\\xce|\\xb6\\xef\\x1a\\xc6\\x9c\\x99]2\\xbb\\xd6\\xc3q\\xf1\\x82\\x7f^', b'B`\\x82']\n"
     ]
    }
   ],
   "source": [
    "splitted_data = list(chunkstring(data, 32))\n",
    "print(splitted_data)"
   ]
  },
  {
   "cell_type": "markdown",
   "metadata": {},
   "source": [
    "### Encryption using AES ###"
   ]
  },
  {
   "cell_type": "code",
   "execution_count": 65,
   "metadata": {},
   "outputs": [
    {
     "name": "stdout",
     "output_type": "stream",
     "text": [
      "b'\\x89PNG\\r\\n\\x1a\\n\\x00\\x00\\x00\\rIHDR\\x00\\x00\\x02\\x08\\x00\\x00\\x01\\xa0\\x08\\x06\\x00\\x00\\x00\\xcf[\\x9f'\n",
      "b'\\xf8\\xcf,.\\xa0\\xa0\\xa5\\x90\\xf1t`\\x94k-{pa\\xa9\\x82\\xf3S%\\xf4tT\\x91)6\\xb0X\\xac\\xc0'\n"
     ]
    },
    {
     "ename": "TypeError",
     "evalue": "encrypt() can only be called after initialization or an update()",
     "output_type": "error",
     "traceback": [
      "\u001b[1;31m---------------------------------------------------------------------------\u001b[0m",
      "\u001b[1;31mTypeError\u001b[0m                                 Traceback (most recent call last)",
      "\u001b[1;32m<ipython-input-65-6dcc6ebbce07>\u001b[0m in \u001b[0;36m<module>\u001b[1;34m()\u001b[0m\n\u001b[0;32m      7\u001b[0m \u001b[1;32mfor\u001b[0m \u001b[0mindex\u001b[0m\u001b[1;33m,\u001b[0m \u001b[0mdata\u001b[0m \u001b[1;32min\u001b[0m \u001b[0menumerate\u001b[0m\u001b[1;33m(\u001b[0m\u001b[0msplitted_data\u001b[0m\u001b[1;33m)\u001b[0m\u001b[1;33m:\u001b[0m\u001b[1;33m\u001b[0m\u001b[0m\n\u001b[0;32m      8\u001b[0m     \u001b[0mprint\u001b[0m\u001b[1;33m(\u001b[0m\u001b[0mdata\u001b[0m\u001b[1;33m)\u001b[0m\u001b[1;33m\u001b[0m\u001b[0m\n\u001b[1;32m----> 9\u001b[1;33m     \u001b[0mciphertext\u001b[0m\u001b[1;33m,\u001b[0m \u001b[0mtag\u001b[0m \u001b[1;33m=\u001b[0m \u001b[0mcipher\u001b[0m\u001b[1;33m.\u001b[0m\u001b[0mencrypt_and_digest\u001b[0m\u001b[1;33m(\u001b[0m\u001b[0mdata\u001b[0m\u001b[1;33m)\u001b[0m\u001b[1;33m\u001b[0m\u001b[0m\n\u001b[0m\u001b[0;32m     10\u001b[0m \u001b[1;33m\u001b[0m\u001b[0m\n\u001b[0;32m     11\u001b[0m     \u001b[1;32mwith\u001b[0m \u001b[0mopen\u001b[0m\u001b[1;33m(\u001b[0m\u001b[1;34mf\"tests/block_{index}.glp\"\u001b[0m\u001b[1;33m,\u001b[0m \u001b[1;34m\"wb\"\u001b[0m\u001b[1;33m)\u001b[0m \u001b[1;32mas\u001b[0m \u001b[0mfile_out\u001b[0m\u001b[1;33m:\u001b[0m\u001b[1;33m\u001b[0m\u001b[0m\n",
      "\u001b[1;32m~\\AppData\\Local\\Programs\\Python\\Python37-32\\lib\\site-packages\\Crypto\\Cipher\\_mode_eax.py\u001b[0m in \u001b[0;36mencrypt_and_digest\u001b[1;34m(self, plaintext)\u001b[0m\n\u001b[0;32m    321\u001b[0m         \"\"\"\n\u001b[0;32m    322\u001b[0m \u001b[1;33m\u001b[0m\u001b[0m\n\u001b[1;32m--> 323\u001b[1;33m         \u001b[1;32mreturn\u001b[0m \u001b[0mself\u001b[0m\u001b[1;33m.\u001b[0m\u001b[0mencrypt\u001b[0m\u001b[1;33m(\u001b[0m\u001b[0mplaintext\u001b[0m\u001b[1;33m)\u001b[0m\u001b[1;33m,\u001b[0m \u001b[0mself\u001b[0m\u001b[1;33m.\u001b[0m\u001b[0mdigest\u001b[0m\u001b[1;33m(\u001b[0m\u001b[1;33m)\u001b[0m\u001b[1;33m\u001b[0m\u001b[0m\n\u001b[0m\u001b[0;32m    324\u001b[0m \u001b[1;33m\u001b[0m\u001b[0m\n\u001b[0;32m    325\u001b[0m     \u001b[1;32mdef\u001b[0m \u001b[0mdecrypt_and_verify\u001b[0m\u001b[1;33m(\u001b[0m\u001b[0mself\u001b[0m\u001b[1;33m,\u001b[0m \u001b[0mciphertext\u001b[0m\u001b[1;33m,\u001b[0m \u001b[0mreceived_mac_tag\u001b[0m\u001b[1;33m)\u001b[0m\u001b[1;33m:\u001b[0m\u001b[1;33m\u001b[0m\u001b[0m\n",
      "\u001b[1;32m~\\AppData\\Local\\Programs\\Python\\Python37-32\\lib\\site-packages\\Crypto\\Cipher\\_mode_eax.py\u001b[0m in \u001b[0;36mencrypt\u001b[1;34m(self, plaintext)\u001b[0m\n\u001b[0;32m    182\u001b[0m \u001b[1;33m\u001b[0m\u001b[0m\n\u001b[0;32m    183\u001b[0m         \u001b[1;32mif\u001b[0m \u001b[0mself\u001b[0m\u001b[1;33m.\u001b[0m\u001b[0mencrypt\u001b[0m \u001b[1;32mnot\u001b[0m \u001b[1;32min\u001b[0m \u001b[0mself\u001b[0m\u001b[1;33m.\u001b[0m\u001b[0m_next\u001b[0m\u001b[1;33m:\u001b[0m\u001b[1;33m\u001b[0m\u001b[0m\n\u001b[1;32m--> 184\u001b[1;33m             raise TypeError(\"encrypt() can only be called after\"\n\u001b[0m\u001b[0;32m    185\u001b[0m                             \" initialization or an update()\")\n\u001b[0;32m    186\u001b[0m         \u001b[0mself\u001b[0m\u001b[1;33m.\u001b[0m\u001b[0m_next\u001b[0m \u001b[1;33m=\u001b[0m \u001b[1;33m[\u001b[0m\u001b[0mself\u001b[0m\u001b[1;33m.\u001b[0m\u001b[0mencrypt\u001b[0m\u001b[1;33m,\u001b[0m \u001b[0mself\u001b[0m\u001b[1;33m.\u001b[0m\u001b[0mdigest\u001b[0m\u001b[1;33m]\u001b[0m\u001b[1;33m\u001b[0m\u001b[0m\n",
      "\u001b[1;31mTypeError\u001b[0m: encrypt() can only be called after initialization or an update()"
     ]
    }
   ],
   "source": [
    "from Crypto.Cipher import AES\n",
    "from Crypto.Random import get_random_bytes\n",
    "\n",
    "key = get_random_bytes(16)\n",
    "cipher = AES.new(key, AES.MODE_EAX)\n",
    "\n",
    "for index, data in enumerate(splitted_data):\n",
    "    ciphertext, tag = cipher.encrypt_and_digest(data)\n",
    "\n",
    "    with open(f\"tests/block_{index}.glp\", \"wb\") as file_out:\n",
    "        [ file_out.write(x) for x in (cipher.nonce, tag, ciphertext) ]"
   ]
  }
 ],
 "metadata": {
  "kernelspec": {
   "display_name": "python37",
   "language": "python",
   "name": "python37"
  },
  "language_info": {
   "codemirror_mode": {
    "name": "ipython",
    "version": 3
   },
   "file_extension": ".py",
   "mimetype": "text/x-python",
   "name": "python",
   "nbconvert_exporter": "python",
   "pygments_lexer": "ipython3",
   "version": "3.7.0"
  }
 },
 "nbformat": 4,
 "nbformat_minor": 2
}
